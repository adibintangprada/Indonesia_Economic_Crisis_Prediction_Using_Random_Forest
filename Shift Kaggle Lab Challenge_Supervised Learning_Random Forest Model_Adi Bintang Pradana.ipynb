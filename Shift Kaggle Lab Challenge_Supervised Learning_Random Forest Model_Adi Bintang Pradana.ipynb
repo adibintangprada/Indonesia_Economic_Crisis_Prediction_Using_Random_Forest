{
 "cells": [
  {
   "cell_type": "markdown",
   "metadata": {},
   "source": [
    "Data yang digunakan adalah tentang terjadinya krisis keuangan di Indonesia. Variabel input (Prediktor) berupa 12 indikator makroekonomi Indonesia, sedangkan variabel output (target) merupakan kondisi krisis keuangan di Indonesia.\n",
    "\n",
    "0 : Tidak Terjadi Krisis Keuangan\n",
    "\n",
    "1 : Terjadi Krisis Keuangan"
   ]
  },
  {
   "cell_type": "markdown",
   "metadata": {},
   "source": [
    "## Import Library"
   ]
  },
  {
   "cell_type": "code",
   "execution_count": 24,
   "metadata": {},
   "outputs": [],
   "source": [
    "import numpy as np\n",
    "import pandas as pd\n",
    "import seaborn as sns\n",
    "import matplotlib.pyplot as plt"
   ]
  },
  {
   "cell_type": "markdown",
   "metadata": {},
   "source": [
    "## Load Datasets"
   ]
  },
  {
   "cell_type": "code",
   "execution_count": 25,
   "metadata": {},
   "outputs": [],
   "source": [
    "data = pd.read_csv('krisis.csv', sep = ';')"
   ]
  },
  {
   "cell_type": "markdown",
   "metadata": {},
   "source": [
    "## Data Understanding"
   ]
  },
  {
   "cell_type": "code",
   "execution_count": 26,
   "metadata": {},
   "outputs": [
    {
     "data": {
      "text/html": [
       "<div>\n",
       "<style scoped>\n",
       "    .dataframe tbody tr th:only-of-type {\n",
       "        vertical-align: middle;\n",
       "    }\n",
       "\n",
       "    .dataframe tbody tr th {\n",
       "        vertical-align: top;\n",
       "    }\n",
       "\n",
       "    .dataframe thead th {\n",
       "        text-align: right;\n",
       "    }\n",
       "</style>\n",
       "<table border=\"1\" class=\"dataframe\">\n",
       "  <thead>\n",
       "    <tr style=\"text-align: right;\">\n",
       "      <th></th>\n",
       "      <th>Id</th>\n",
       "      <th>Ekspor</th>\n",
       "      <th>Cadangan Devisa</th>\n",
       "      <th>IHSG</th>\n",
       "      <th>Selisih Pinjaman dan Simpanan</th>\n",
       "      <th>Suku Bunga Simpanan Riil</th>\n",
       "      <th>Selisih BI Rate Riil dan FED Rate Riil</th>\n",
       "      <th>Simpanan bank</th>\n",
       "      <th>Nilai Tukar Riil</th>\n",
       "      <th>Nilai Tukar Perdagangan</th>\n",
       "      <th>M1</th>\n",
       "      <th>M2/Cadangan Devisa</th>\n",
       "      <th>M2M</th>\n",
       "      <th>Krisis</th>\n",
       "    </tr>\n",
       "  </thead>\n",
       "  <tbody>\n",
       "    <tr>\n",
       "      <th>0</th>\n",
       "      <td>0</td>\n",
       "      <td>1845.2</td>\n",
       "      <td>6068.2</td>\n",
       "      <td>504.27</td>\n",
       "      <td>1.24</td>\n",
       "      <td>15.56</td>\n",
       "      <td>4.36</td>\n",
       "      <td>14.567329</td>\n",
       "      <td>376.63</td>\n",
       "      <td>1.2366</td>\n",
       "      <td>10.66</td>\n",
       "      <td>0.0055</td>\n",
       "      <td>6.46</td>\n",
       "      <td>1</td>\n",
       "    </tr>\n",
       "    <tr>\n",
       "      <th>1</th>\n",
       "      <td>1</td>\n",
       "      <td>2055.0</td>\n",
       "      <td>6259.1</td>\n",
       "      <td>612.20</td>\n",
       "      <td>1.24</td>\n",
       "      <td>16.63</td>\n",
       "      <td>5.83</td>\n",
       "      <td>16.707625</td>\n",
       "      <td>375.39</td>\n",
       "      <td>1.2129</td>\n",
       "      <td>12.15</td>\n",
       "      <td>0.0056</td>\n",
       "      <td>6.16</td>\n",
       "      <td>1</td>\n",
       "    </tr>\n",
       "    <tr>\n",
       "      <th>2</th>\n",
       "      <td>4</td>\n",
       "      <td>1750.0</td>\n",
       "      <td>5767.5</td>\n",
       "      <td>624.33</td>\n",
       "      <td>1.22</td>\n",
       "      <td>14.77</td>\n",
       "      <td>7.92</td>\n",
       "      <td>16.067787</td>\n",
       "      <td>388.69</td>\n",
       "      <td>1.0374</td>\n",
       "      <td>12.58</td>\n",
       "      <td>0.0066</td>\n",
       "      <td>6.77</td>\n",
       "      <td>0</td>\n",
       "    </tr>\n",
       "    <tr>\n",
       "      <th>3</th>\n",
       "      <td>5</td>\n",
       "      <td>1812.0</td>\n",
       "      <td>6392.7</td>\n",
       "      <td>614.41</td>\n",
       "      <td>1.19</td>\n",
       "      <td>14.29</td>\n",
       "      <td>7.91</td>\n",
       "      <td>16.274743</td>\n",
       "      <td>396.82</td>\n",
       "      <td>1.0315</td>\n",
       "      <td>12.23</td>\n",
       "      <td>0.0060</td>\n",
       "      <td>7.04</td>\n",
       "      <td>0</td>\n",
       "    </tr>\n",
       "    <tr>\n",
       "      <th>4</th>\n",
       "      <td>6</td>\n",
       "      <td>2124.0</td>\n",
       "      <td>6615.6</td>\n",
       "      <td>556.34</td>\n",
       "      <td>1.18</td>\n",
       "      <td>16.66</td>\n",
       "      <td>9.74</td>\n",
       "      <td>16.913348</td>\n",
       "      <td>397.52</td>\n",
       "      <td>1.0400</td>\n",
       "      <td>12.08</td>\n",
       "      <td>0.0060</td>\n",
       "      <td>6.76</td>\n",
       "      <td>0</td>\n",
       "    </tr>\n",
       "  </tbody>\n",
       "</table>\n",
       "</div>"
      ],
      "text/plain": [
       "   Id  Ekspor  Cadangan Devisa    IHSG  Selisih Pinjaman dan Simpanan  \\\n",
       "0   0  1845.2           6068.2  504.27                           1.24   \n",
       "1   1  2055.0           6259.1  612.20                           1.24   \n",
       "2   4  1750.0           5767.5  624.33                           1.22   \n",
       "3   5  1812.0           6392.7  614.41                           1.19   \n",
       "4   6  2124.0           6615.6  556.34                           1.18   \n",
       "\n",
       "   Suku Bunga Simpanan Riil  Selisih BI Rate Riil dan FED Rate Riil  \\\n",
       "0                     15.56                                    4.36   \n",
       "1                     16.63                                    5.83   \n",
       "2                     14.77                                    7.92   \n",
       "3                     14.29                                    7.91   \n",
       "4                     16.66                                    9.74   \n",
       "\n",
       "   Simpanan bank   Nilai Tukar Riil  Nilai Tukar Perdagangan     M1  \\\n",
       "0       14.567329            376.63                   1.2366  10.66   \n",
       "1       16.707625            375.39                   1.2129  12.15   \n",
       "2       16.067787            388.69                   1.0374  12.58   \n",
       "3       16.274743            396.82                   1.0315  12.23   \n",
       "4       16.913348            397.52                   1.0400  12.08   \n",
       "\n",
       "   M2/Cadangan Devisa   M2M  Krisis  \n",
       "0              0.0055  6.46       1  \n",
       "1              0.0056  6.16       1  \n",
       "2              0.0066  6.77       0  \n",
       "3              0.0060  7.04       0  \n",
       "4              0.0060  6.76       0  "
      ]
     },
     "execution_count": 26,
     "metadata": {},
     "output_type": "execute_result"
    }
   ],
   "source": [
    "data.head()"
   ]
  },
  {
   "cell_type": "code",
   "execution_count": 27,
   "metadata": {},
   "outputs": [
    {
     "data": {
      "text/plain": [
       "(270, 14)"
      ]
     },
     "execution_count": 27,
     "metadata": {},
     "output_type": "execute_result"
    }
   ],
   "source": [
    "data.shape"
   ]
  },
  {
   "cell_type": "code",
   "execution_count": 28,
   "metadata": {},
   "outputs": [
    {
     "name": "stdout",
     "output_type": "stream",
     "text": [
      "<class 'pandas.core.frame.DataFrame'>\n",
      "RangeIndex: 270 entries, 0 to 269\n",
      "Data columns (total 14 columns):\n",
      " #   Column                                  Non-Null Count  Dtype  \n",
      "---  ------                                  --------------  -----  \n",
      " 0   Id                                      270 non-null    int64  \n",
      " 1   Ekspor                                  270 non-null    float64\n",
      " 2   Cadangan Devisa                         270 non-null    float64\n",
      " 3   IHSG                                    270 non-null    float64\n",
      " 4   Selisih Pinjaman dan Simpanan           270 non-null    float64\n",
      " 5   Suku Bunga Simpanan Riil                270 non-null    float64\n",
      " 6   Selisih BI Rate Riil dan FED Rate Riil  270 non-null    float64\n",
      " 7   Simpanan bank                           270 non-null    float64\n",
      " 8   Nilai Tukar Riil                        270 non-null    float64\n",
      " 9   Nilai Tukar Perdagangan                 270 non-null    float64\n",
      " 10  M1                                      270 non-null    float64\n",
      " 11  M2/Cadangan Devisa                      270 non-null    float64\n",
      " 12  M2M                                     270 non-null    float64\n",
      " 13  Krisis                                  270 non-null    int64  \n",
      "dtypes: float64(12), int64(2)\n",
      "memory usage: 29.7 KB\n"
     ]
    }
   ],
   "source": [
    "data.info()"
   ]
  },
  {
   "cell_type": "code",
   "execution_count": 29,
   "metadata": {},
   "outputs": [
    {
     "data": {
      "text/html": [
       "<div>\n",
       "<style scoped>\n",
       "    .dataframe tbody tr th:only-of-type {\n",
       "        vertical-align: middle;\n",
       "    }\n",
       "\n",
       "    .dataframe tbody tr th {\n",
       "        vertical-align: top;\n",
       "    }\n",
       "\n",
       "    .dataframe thead th {\n",
       "        text-align: right;\n",
       "    }\n",
       "</style>\n",
       "<table border=\"1\" class=\"dataframe\">\n",
       "  <thead>\n",
       "    <tr style=\"text-align: right;\">\n",
       "      <th></th>\n",
       "      <th>Id</th>\n",
       "      <th>Ekspor</th>\n",
       "      <th>Cadangan Devisa</th>\n",
       "      <th>IHSG</th>\n",
       "      <th>Selisih Pinjaman dan Simpanan</th>\n",
       "      <th>Suku Bunga Simpanan Riil</th>\n",
       "      <th>Selisih BI Rate Riil dan FED Rate Riil</th>\n",
       "      <th>Simpanan bank</th>\n",
       "      <th>Nilai Tukar Riil</th>\n",
       "      <th>Nilai Tukar Perdagangan</th>\n",
       "      <th>M1</th>\n",
       "      <th>M2/Cadangan Devisa</th>\n",
       "      <th>M2M</th>\n",
       "      <th>Krisis</th>\n",
       "    </tr>\n",
       "  </thead>\n",
       "  <tbody>\n",
       "    <tr>\n",
       "      <th>count</th>\n",
       "      <td>270.000000</td>\n",
       "      <td>270.000000</td>\n",
       "      <td>270.000000</td>\n",
       "      <td>270.000000</td>\n",
       "      <td>270.000000</td>\n",
       "      <td>270.000000</td>\n",
       "      <td>270.000000</td>\n",
       "      <td>270.000000</td>\n",
       "      <td>270.000000</td>\n",
       "      <td>270.000000</td>\n",
       "      <td>270.000000</td>\n",
       "      <td>270.000000</td>\n",
       "      <td>270.000000</td>\n",
       "      <td>270.000000</td>\n",
       "    </tr>\n",
       "    <tr>\n",
       "      <th>mean</th>\n",
       "      <td>174.429630</td>\n",
       "      <td>8247.868963</td>\n",
       "      <td>53516.383556</td>\n",
       "      <td>2071.609444</td>\n",
       "      <td>1.500222</td>\n",
       "      <td>12.016000</td>\n",
       "      <td>8.328000</td>\n",
       "      <td>134.058398</td>\n",
       "      <td>7232.566259</td>\n",
       "      <td>1.225759</td>\n",
       "      <td>41.406296</td>\n",
       "      <td>0.003716</td>\n",
       "      <td>6.763333</td>\n",
       "      <td>0.111111</td>\n",
       "    </tr>\n",
       "    <tr>\n",
       "      <th>std</th>\n",
       "      <td>101.887141</td>\n",
       "      <td>4853.028611</td>\n",
       "      <td>41132.468503</td>\n",
       "      <td>2014.293535</td>\n",
       "      <td>0.333443</td>\n",
       "      <td>7.509484</td>\n",
       "      <td>7.233576</td>\n",
       "      <td>100.175825</td>\n",
       "      <td>5550.579030</td>\n",
       "      <td>0.214566</td>\n",
       "      <td>29.628941</td>\n",
       "      <td>0.001151</td>\n",
       "      <td>5.115211</td>\n",
       "      <td>0.314853</td>\n",
       "    </tr>\n",
       "    <tr>\n",
       "      <th>min</th>\n",
       "      <td>0.000000</td>\n",
       "      <td>1750.000000</td>\n",
       "      <td>5767.500000</td>\n",
       "      <td>226.680000</td>\n",
       "      <td>0.660000</td>\n",
       "      <td>0.680000</td>\n",
       "      <td>1.250000</td>\n",
       "      <td>14.567329</td>\n",
       "      <td>375.390000</td>\n",
       "      <td>0.851500</td>\n",
       "      <td>7.350000</td>\n",
       "      <td>0.002000</td>\n",
       "      <td>4.190000</td>\n",
       "      <td>0.000000</td>\n",
       "    </tr>\n",
       "    <tr>\n",
       "      <th>25%</th>\n",
       "      <td>88.250000</td>\n",
       "      <td>4082.750000</td>\n",
       "      <td>19042.000000</td>\n",
       "      <td>462.717500</td>\n",
       "      <td>1.220000</td>\n",
       "      <td>6.622500</td>\n",
       "      <td>5.107500</td>\n",
       "      <td>58.468779</td>\n",
       "      <td>742.267500</td>\n",
       "      <td>1.063950</td>\n",
       "      <td>16.475000</td>\n",
       "      <td>0.003000</td>\n",
       "      <td>5.020000</td>\n",
       "      <td>0.000000</td>\n",
       "    </tr>\n",
       "    <tr>\n",
       "      <th>50%</th>\n",
       "      <td>172.500000</td>\n",
       "      <td>6261.415000</td>\n",
       "      <td>34816.185000</td>\n",
       "      <td>759.030000</td>\n",
       "      <td>1.505000</td>\n",
       "      <td>10.395000</td>\n",
       "      <td>6.515000</td>\n",
       "      <td>83.851499</td>\n",
       "      <td>6753.570000</td>\n",
       "      <td>1.166350</td>\n",
       "      <td>26.455000</td>\n",
       "      <td>0.003200</td>\n",
       "      <td>6.180000</td>\n",
       "      <td>0.000000</td>\n",
       "    </tr>\n",
       "    <tr>\n",
       "      <th>75%</th>\n",
       "      <td>262.750000</td>\n",
       "      <td>12936.765000</td>\n",
       "      <td>102477.375000</td>\n",
       "      <td>3916.700000</td>\n",
       "      <td>1.760000</td>\n",
       "      <td>15.330000</td>\n",
       "      <td>8.822500</td>\n",
       "      <td>245.694303</td>\n",
       "      <td>10000.275000</td>\n",
       "      <td>1.373825</td>\n",
       "      <td>73.185000</td>\n",
       "      <td>0.004600</td>\n",
       "      <td>7.900000</td>\n",
       "      <td>0.000000</td>\n",
       "    </tr>\n",
       "    <tr>\n",
       "      <th>max</th>\n",
       "      <td>351.000000</td>\n",
       "      <td>18530.800000</td>\n",
       "      <td>130196.380000</td>\n",
       "      <td>6597.220000</td>\n",
       "      <td>2.410000</td>\n",
       "      <td>52.980000</td>\n",
       "      <td>59.880000</td>\n",
       "      <td>330.612337</td>\n",
       "      <td>19358.390000</td>\n",
       "      <td>1.857700</td>\n",
       "      <td>104.840000</td>\n",
       "      <td>0.006600</td>\n",
       "      <td>86.970000</td>\n",
       "      <td>1.000000</td>\n",
       "    </tr>\n",
       "  </tbody>\n",
       "</table>\n",
       "</div>"
      ],
      "text/plain": [
       "               Id        Ekspor  Cadangan Devisa         IHSG  \\\n",
       "count  270.000000    270.000000       270.000000   270.000000   \n",
       "mean   174.429630   8247.868963     53516.383556  2071.609444   \n",
       "std    101.887141   4853.028611     41132.468503  2014.293535   \n",
       "min      0.000000   1750.000000      5767.500000   226.680000   \n",
       "25%     88.250000   4082.750000     19042.000000   462.717500   \n",
       "50%    172.500000   6261.415000     34816.185000   759.030000   \n",
       "75%    262.750000  12936.765000    102477.375000  3916.700000   \n",
       "max    351.000000  18530.800000    130196.380000  6597.220000   \n",
       "\n",
       "       Selisih Pinjaman dan Simpanan  Suku Bunga Simpanan Riil  \\\n",
       "count                     270.000000                270.000000   \n",
       "mean                        1.500222                 12.016000   \n",
       "std                         0.333443                  7.509484   \n",
       "min                         0.660000                  0.680000   \n",
       "25%                         1.220000                  6.622500   \n",
       "50%                         1.505000                 10.395000   \n",
       "75%                         1.760000                 15.330000   \n",
       "max                         2.410000                 52.980000   \n",
       "\n",
       "       Selisih BI Rate Riil dan FED Rate Riil  Simpanan bank   \\\n",
       "count                              270.000000      270.000000   \n",
       "mean                                 8.328000      134.058398   \n",
       "std                                  7.233576      100.175825   \n",
       "min                                  1.250000       14.567329   \n",
       "25%                                  5.107500       58.468779   \n",
       "50%                                  6.515000       83.851499   \n",
       "75%                                  8.822500      245.694303   \n",
       "max                                 59.880000      330.612337   \n",
       "\n",
       "       Nilai Tukar Riil  Nilai Tukar Perdagangan          M1  \\\n",
       "count        270.000000               270.000000  270.000000   \n",
       "mean        7232.566259                 1.225759   41.406296   \n",
       "std         5550.579030                 0.214566   29.628941   \n",
       "min          375.390000                 0.851500    7.350000   \n",
       "25%          742.267500                 1.063950   16.475000   \n",
       "50%         6753.570000                 1.166350   26.455000   \n",
       "75%        10000.275000                 1.373825   73.185000   \n",
       "max        19358.390000                 1.857700  104.840000   \n",
       "\n",
       "       M2/Cadangan Devisa         M2M      Krisis  \n",
       "count          270.000000  270.000000  270.000000  \n",
       "mean             0.003716    6.763333    0.111111  \n",
       "std              0.001151    5.115211    0.314853  \n",
       "min              0.002000    4.190000    0.000000  \n",
       "25%              0.003000    5.020000    0.000000  \n",
       "50%              0.003200    6.180000    0.000000  \n",
       "75%              0.004600    7.900000    0.000000  \n",
       "max              0.006600   86.970000    1.000000  "
      ]
     },
     "execution_count": 29,
     "metadata": {},
     "output_type": "execute_result"
    }
   ],
   "source": [
    "data.describe()"
   ]
  },
  {
   "cell_type": "markdown",
   "metadata": {},
   "source": [
    "## Data Cleaning and Preprocessing"
   ]
  },
  {
   "cell_type": "markdown",
   "metadata": {},
   "source": [
    "### Check Duplicate Data"
   ]
  },
  {
   "cell_type": "code",
   "execution_count": 30,
   "metadata": {},
   "outputs": [],
   "source": [
    "data = data.drop_duplicates()"
   ]
  },
  {
   "cell_type": "code",
   "execution_count": 31,
   "metadata": {},
   "outputs": [
    {
     "data": {
      "text/plain": [
       "(270, 14)"
      ]
     },
     "execution_count": 31,
     "metadata": {},
     "output_type": "execute_result"
    }
   ],
   "source": [
    "data.shape"
   ]
  },
  {
   "cell_type": "markdown",
   "metadata": {},
   "source": [
    "### Check Data Types"
   ]
  },
  {
   "cell_type": "code",
   "execution_count": 32,
   "metadata": {},
   "outputs": [
    {
     "data": {
      "text/plain": [
       "Id                                          int64\n",
       "Ekspor                                    float64\n",
       "Cadangan Devisa                           float64\n",
       "IHSG                                      float64\n",
       "Selisih Pinjaman dan Simpanan             float64\n",
       "Suku Bunga Simpanan Riil                  float64\n",
       "Selisih BI Rate Riil dan FED Rate Riil    float64\n",
       "Simpanan bank                             float64\n",
       "Nilai Tukar Riil                          float64\n",
       "Nilai Tukar Perdagangan                   float64\n",
       "M1                                        float64\n",
       "M2/Cadangan Devisa                        float64\n",
       "M2M                                       float64\n",
       "Krisis                                      int64\n",
       "dtype: object"
      ]
     },
     "execution_count": 32,
     "metadata": {},
     "output_type": "execute_result"
    }
   ],
   "source": [
    "data.dtypes"
   ]
  },
  {
   "cell_type": "markdown",
   "metadata": {},
   "source": [
    "### Check Missing Value"
   ]
  },
  {
   "cell_type": "code",
   "execution_count": 33,
   "metadata": {},
   "outputs": [
    {
     "data": {
      "text/plain": [
       "Id                                        0\n",
       "Ekspor                                    0\n",
       "Cadangan Devisa                           0\n",
       "IHSG                                      0\n",
       "Selisih Pinjaman dan Simpanan             0\n",
       "Suku Bunga Simpanan Riil                  0\n",
       "Selisih BI Rate Riil dan FED Rate Riil    0\n",
       "Simpanan bank                             0\n",
       "Nilai Tukar Riil                          0\n",
       "Nilai Tukar Perdagangan                   0\n",
       "M1                                        0\n",
       "M2/Cadangan Devisa                        0\n",
       "M2M                                       0\n",
       "Krisis                                    0\n",
       "dtype: int64"
      ]
     },
     "execution_count": 33,
     "metadata": {},
     "output_type": "execute_result"
    }
   ],
   "source": [
    "data.isnull().sum()"
   ]
  },
  {
   "cell_type": "markdown",
   "metadata": {},
   "source": [
    "### Outlier Detection"
   ]
  },
  {
   "cell_type": "markdown",
   "metadata": {},
   "source": [
    "##### Variabel Ekspor"
   ]
  },
  {
   "cell_type": "code",
   "execution_count": 35,
   "metadata": {},
   "outputs": [
    {
     "name": "stderr",
     "output_type": "stream",
     "text": [
      "C:\\Users\\Bintang\\anaconda3\\lib\\site-packages\\seaborn\\_decorators.py:36: FutureWarning: Pass the following variable as a keyword arg: x. From version 0.12, the only valid positional argument will be `data`, and passing other arguments without an explicit keyword will result in an error or misinterpretation.\n",
      "  warnings.warn(\n"
     ]
    },
    {
     "data": {
      "image/png": "[encoded data removed]",
      "text/plain": [
       "<Figure size 432x288 with 1 Axes>"
      ]
     },
     "metadata": {
      "needs_background": "light"
     },
     "output_type": "display_data"
    }
   ],
   "source": [
    "sns.boxplot(data[\"Ekspor\"])\n",
    "plt.show()"
   ]
  },
  {
   "cell_type": "markdown",
   "metadata": {},
   "source": [
    "##### Variabel Cadangan Devisa"
   ]
  },
  {
   "cell_type": "code",
   "execution_count": 36,
   "metadata": {},
   "outputs": [
    {
     "name": "stderr",
     "output_type": "stream",
     "text": [
      "C:\\Users\\Bintang\\anaconda3\\lib\\site-packages\\seaborn\\_decorators.py:36: FutureWarning: Pass the following variable as a keyword arg: x. From version 0.12, the only valid positional argument will be `data`, and passing other arguments without an explicit keyword will result in an error or misinterpretation.\n",
      "  warnings.warn(\n"
     ]
    },
    {
     "data": {
      "image/png": "[encoded data removed]",
      "text/plain": [
       "<Figure size 432x288 with 1 Axes>"
      ]
     },
     "metadata": {
      "needs_background": "light"
     },
     "output_type": "display_data"
    }
   ],
   "source": [
    "sns.boxplot(data[\"Cadangan Devisa\"])\n",
    "plt.show()"
   ]
  },
  {
   "cell_type": "markdown",
   "metadata": {},
   "source": [
    "##### Variabel IHSG"
   ]
  },
  {
   "cell_type": "code",
   "execution_count": 37,
   "metadata": {},
   "outputs": [
    {
     "name": "stderr",
     "output_type": "stream",
     "text": [
      "C:\\Users\\Bintang\\anaconda3\\lib\\site-packages\\seaborn\\_decorators.py:36: FutureWarning: Pass the following variable as a keyword arg: x. From version 0.12, the only valid positional argument will be `data`, and passing other arguments without an explicit keyword will result in an error or misinterpretation.\n",
      "  warnings.warn(\n"
     ]
    },
    {
     "data": {
      "image/png": "[encoded data removed]",
      "text/plain": [
       "<Figure size 432x288 with 1 Axes>"
      ]
     },
     "metadata": {
      "needs_background": "light"
     },
     "output_type": "display_data"
    }
   ],
   "source": [
    "sns.boxplot(data[\"IHSG\"])\n",
    "plt.show()"
   ]
  },
  {
   "cell_type": "markdown",
   "metadata": {},
   "source": [
    "##### Variabel Selisih Pinjaman dan Simpanan"
   ]
  },
  {
   "cell_type": "code",
   "execution_count": 38,
   "metadata": {},
   "outputs": [
    {
     "name": "stderr",
     "output_type": "stream",
     "text": [
      "C:\\Users\\Bintang\\anaconda3\\lib\\site-packages\\seaborn\\_decorators.py:36: FutureWarning: Pass the following variable as a keyword arg: x. From version 0.12, the only valid positional argument will be `data`, and passing other arguments without an explicit keyword will result in an error or misinterpretation.\n",
      "  warnings.warn(\n"
     ]
    },
    {
     "data": {
      "image/png": "[encoded data removed]",
      "text/plain": [
       "<Figure size 432x288 with 1 Axes>"
      ]
     },
     "metadata": {
      "needs_background": "light"
     },
     "output_type": "display_data"
    }
   ],
   "source": [
    "sns.boxplot(data[\"Selisih Pinjaman dan Simpanan\"])\n",
    "plt.show()"
   ]
  },
  {
   "cell_type": "markdown",
   "metadata": {},
   "source": [
    "##### Variabel Suku Bunga Simpanan Riil (Terdapat Outlier)"
   ]
  },
  {
   "cell_type": "code",
   "execution_count": 39,
   "metadata": {},
   "outputs": [
    {
     "name": "stderr",
     "output_type": "stream",
     "text": [
      "C:\\Users\\Bintang\\anaconda3\\lib\\site-packages\\seaborn\\_decorators.py:36: FutureWarning: Pass the following variable as a keyword arg: x. From version 0.12, the only valid positional argument will be `data`, and passing other arguments without an explicit keyword will result in an error or misinterpretation.\n",
      "  warnings.warn(\n"
     ]
    },
    {
     "data": {
      "image/png": "[encoded data removed]",
      "text/plain": [
       "<Figure size 432x288 with 1 Axes>"
      ]
     },
     "metadata": {
      "needs_background": "light"
     },
     "output_type": "display_data"
    }
   ],
   "source": [
    "sns.boxplot(data[\"Suku Bunga Simpanan Riil\"])\n",
    "plt.show()"
   ]
  },
  {
   "cell_type": "code",
   "execution_count": 40,
   "metadata": {},
   "outputs": [
    {
     "data": {
      "text/html": [
       "<div>\n",
       "<style scoped>\n",
       "    .dataframe tbody tr th:only-of-type {\n",
       "        vertical-align: middle;\n",
       "    }\n",
       "\n",
       "    .dataframe tbody tr th {\n",
       "        vertical-align: top;\n",
       "    }\n",
       "\n",
       "    .dataframe thead th {\n",
       "        text-align: right;\n",
       "    }\n",
       "</style>\n",
       "<table border=\"1\" class=\"dataframe\">\n",
       "  <thead>\n",
       "    <tr style=\"text-align: right;\">\n",
       "      <th></th>\n",
       "      <th>Id</th>\n",
       "      <th>Ekspor</th>\n",
       "      <th>Cadangan Devisa</th>\n",
       "      <th>IHSG</th>\n",
       "      <th>Selisih Pinjaman dan Simpanan</th>\n",
       "      <th>Suku Bunga Simpanan Riil</th>\n",
       "      <th>Selisih BI Rate Riil dan FED Rate Riil</th>\n",
       "      <th>Simpanan bank</th>\n",
       "      <th>Nilai Tukar Riil</th>\n",
       "      <th>Nilai Tukar Perdagangan</th>\n",
       "      <th>M1</th>\n",
       "      <th>M2/Cadangan Devisa</th>\n",
       "      <th>M2M</th>\n",
       "      <th>Krisis</th>\n",
       "    </tr>\n",
       "  </thead>\n",
       "  <tbody>\n",
       "    <tr>\n",
       "      <th>77</th>\n",
       "      <td>100</td>\n",
       "      <td>4668.0</td>\n",
       "      <td>18769.0</td>\n",
       "      <td>445.92</td>\n",
       "      <td>0.83</td>\n",
       "      <td>35.99</td>\n",
       "      <td>47.98</td>\n",
       "      <td>23.505570</td>\n",
       "      <td>6838.86</td>\n",
       "      <td>1.6437</td>\n",
       "      <td>7.35</td>\n",
       "      <td>0.0020</td>\n",
       "      <td>8.05</td>\n",
       "      <td>0</td>\n",
       "    </tr>\n",
       "    <tr>\n",
       "      <th>78</th>\n",
       "      <td>102</td>\n",
       "      <td>4252.0</td>\n",
       "      <td>19735.0</td>\n",
       "      <td>342.43</td>\n",
       "      <td>0.79</td>\n",
       "      <td>38.05</td>\n",
       "      <td>59.05</td>\n",
       "      <td>32.776524</td>\n",
       "      <td>5851.73</td>\n",
       "      <td>1.3886</td>\n",
       "      <td>9.44</td>\n",
       "      <td>0.0025</td>\n",
       "      <td>7.88</td>\n",
       "      <td>0</td>\n",
       "    </tr>\n",
       "    <tr>\n",
       "      <th>79</th>\n",
       "      <td>103</td>\n",
       "      <td>4781.0</td>\n",
       "      <td>20475.0</td>\n",
       "      <td>276.15</td>\n",
       "      <td>0.75</td>\n",
       "      <td>43.63</td>\n",
       "      <td>59.88</td>\n",
       "      <td>35.314860</td>\n",
       "      <td>5858.66</td>\n",
       "      <td>1.5696</td>\n",
       "      <td>9.59</td>\n",
       "      <td>0.0025</td>\n",
       "      <td>7.83</td>\n",
       "      <td>0</td>\n",
       "    </tr>\n",
       "    <tr>\n",
       "      <th>80</th>\n",
       "      <td>105</td>\n",
       "      <td>3542.0</td>\n",
       "      <td>22623.0</td>\n",
       "      <td>386.27</td>\n",
       "      <td>0.66</td>\n",
       "      <td>52.98</td>\n",
       "      <td>46.42</td>\n",
       "      <td>57.130959</td>\n",
       "      <td>3979.76</td>\n",
       "      <td>1.4451</td>\n",
       "      <td>13.83</td>\n",
       "      <td>0.0033</td>\n",
       "      <td>7.54</td>\n",
       "      <td>0</td>\n",
       "    </tr>\n",
       "    <tr>\n",
       "      <th>81</th>\n",
       "      <td>106</td>\n",
       "      <td>3557.0</td>\n",
       "      <td>23516.0</td>\n",
       "      <td>398.03</td>\n",
       "      <td>0.71</td>\n",
       "      <td>47.81</td>\n",
       "      <td>32.21</td>\n",
       "      <td>53.631277</td>\n",
       "      <td>4439.82</td>\n",
       "      <td>1.4430</td>\n",
       "      <td>12.61</td>\n",
       "      <td>0.0031</td>\n",
       "      <td>7.69</td>\n",
       "      <td>0</td>\n",
       "    </tr>\n",
       "    <tr>\n",
       "      <th>82</th>\n",
       "      <td>107</td>\n",
       "      <td>3041.0</td>\n",
       "      <td>24542.0</td>\n",
       "      <td>411.93</td>\n",
       "      <td>0.76</td>\n",
       "      <td>42.53</td>\n",
       "      <td>28.95</td>\n",
       "      <td>48.650391</td>\n",
       "      <td>5086.23</td>\n",
       "      <td>1.4210</td>\n",
       "      <td>11.39</td>\n",
       "      <td>0.0027</td>\n",
       "      <td>7.97</td>\n",
       "      <td>0</td>\n",
       "    </tr>\n",
       "    <tr>\n",
       "      <th>83</th>\n",
       "      <td>108</td>\n",
       "      <td>3357.0</td>\n",
       "      <td>24392.0</td>\n",
       "      <td>396.00</td>\n",
       "      <td>0.91</td>\n",
       "      <td>36.94</td>\n",
       "      <td>31.61</td>\n",
       "      <td>50.421077</td>\n",
       "      <td>5017.68</td>\n",
       "      <td>1.3691</td>\n",
       "      <td>11.85</td>\n",
       "      <td>0.0028</td>\n",
       "      <td>7.75</td>\n",
       "      <td>0</td>\n",
       "    </tr>\n",
       "    <tr>\n",
       "      <th>84</th>\n",
       "      <td>110</td>\n",
       "      <td>4127.0</td>\n",
       "      <td>25715.0</td>\n",
       "      <td>495.22</td>\n",
       "      <td>0.93</td>\n",
       "      <td>34.77</td>\n",
       "      <td>31.85</td>\n",
       "      <td>55.035835</td>\n",
       "      <td>4658.60</td>\n",
       "      <td>1.3625</td>\n",
       "      <td>12.19</td>\n",
       "      <td>0.0029</td>\n",
       "      <td>8.13</td>\n",
       "      <td>0</td>\n",
       "    </tr>\n",
       "  </tbody>\n",
       "</table>\n",
       "</div>"
      ],
      "text/plain": [
       "     Id  Ekspor  Cadangan Devisa    IHSG  Selisih Pinjaman dan Simpanan  \\\n",
       "77  100  4668.0          18769.0  445.92                           0.83   \n",
       "78  102  4252.0          19735.0  342.43                           0.79   \n",
       "79  103  4781.0          20475.0  276.15                           0.75   \n",
       "80  105  3542.0          22623.0  386.27                           0.66   \n",
       "81  106  3557.0          23516.0  398.03                           0.71   \n",
       "82  107  3041.0          24542.0  411.93                           0.76   \n",
       "83  108  3357.0          24392.0  396.00                           0.91   \n",
       "84  110  4127.0          25715.0  495.22                           0.93   \n",
       "\n",
       "    Suku Bunga Simpanan Riil  Selisih BI Rate Riil dan FED Rate Riil  \\\n",
       "77                     35.99                                   47.98   \n",
       "78                     38.05                                   59.05   \n",
       "79                     43.63                                   59.88   \n",
       "80                     52.98                                   46.42   \n",
       "81                     47.81                                   32.21   \n",
       "82                     42.53                                   28.95   \n",
       "83                     36.94                                   31.61   \n",
       "84                     34.77                                   31.85   \n",
       "\n",
       "    Simpanan bank   Nilai Tukar Riil  Nilai Tukar Perdagangan     M1  \\\n",
       "77       23.505570           6838.86                   1.6437   7.35   \n",
       "78       32.776524           5851.73                   1.3886   9.44   \n",
       "79       35.314860           5858.66                   1.5696   9.59   \n",
       "80       57.130959           3979.76                   1.4451  13.83   \n",
       "81       53.631277           4439.82                   1.4430  12.61   \n",
       "82       48.650391           5086.23                   1.4210  11.39   \n",
       "83       50.421077           5017.68                   1.3691  11.85   \n",
       "84       55.035835           4658.60                   1.3625  12.19   \n",
       "\n",
       "    M2/Cadangan Devisa   M2M  Krisis  \n",
       "77              0.0020  8.05       0  \n",
       "78              0.0025  7.88       0  \n",
       "79              0.0025  7.83       0  \n",
       "80              0.0033  7.54       0  \n",
       "81              0.0031  7.69       0  \n",
       "82              0.0027  7.97       0  \n",
       "83              0.0028  7.75       0  \n",
       "84              0.0029  8.13       0  "
      ]
     },
     "execution_count": 40,
     "metadata": {},
     "output_type": "execute_result"
    }
   ],
   "source": [
    "Q1=data[\"Suku Bunga Simpanan Riil\"].quantile(0.25)\n",
    "Q3=data[\"Suku Bunga Simpanan Riil\"].quantile(0.75)\n",
    "IQR=Q3-Q1\n",
    "lower_range = Q1 -(1.5 * IQR)\n",
    "upper_range = Q3 +(1.5 * IQR)\n",
    "data.loc[(data[\"Suku Bunga Simpanan Riil\"]>upper_range),:]"
   ]
  },
  {
   "cell_type": "code",
   "execution_count": 41,
   "metadata": {},
   "outputs": [],
   "source": [
    "data.loc[(data[\"Suku Bunga Simpanan Riil\"]>upper_range),\"Suku Bunga Simpanan Riil\"]=upper_range"
   ]
  },
  {
   "cell_type": "code",
   "execution_count": 43,
   "metadata": {},
   "outputs": [
    {
     "name": "stderr",
     "output_type": "stream",
     "text": [
      "C:\\Users\\Bintang\\anaconda3\\lib\\site-packages\\seaborn\\_decorators.py:36: FutureWarning: Pass the following variable as a keyword arg: x. From version 0.12, the only valid positional argument will be `data`, and passing other arguments without an explicit keyword will result in an error or misinterpretation.\n",
      "  warnings.warn(\n"
     ]
    },
    {
     "data": {
      "image/png": "[encoded data removed]",
      "text/plain": [
       "<Figure size 432x288 with 1 Axes>"
      ]
     },
     "metadata": {
      "needs_background": "light"
     },
     "output_type": "display_data"
    }
   ],
   "source": [
    "sns.boxplot(data[\"Suku Bunga Simpanan Riil\"])\n",
    "plt.show()"
   ]
  },
  {
   "cell_type": "markdown",
   "metadata": {},
   "source": [
    "##### Variabel Selisih BI Rate dan FED Rate Riil (Terdapat Outlier)"
   ]
  },
  {
   "cell_type": "code",
   "execution_count": 45,
   "metadata": {},
   "outputs": [
    {
     "name": "stderr",
     "output_type": "stream",
     "text": [
      "C:\\Users\\Bintang\\anaconda3\\lib\\site-packages\\seaborn\\_decorators.py:36: FutureWarning: Pass the following variable as a keyword arg: x. From version 0.12, the only valid positional argument will be `data`, and passing other arguments without an explicit keyword will result in an error or misinterpretation.\n",
      "  warnings.warn(\n"
     ]
    },
    {
     "data": {
      "image/png": "[encoded data removed]",
      "text/plain": [
       "<Figure size 432x288 with 1 Axes>"
      ]
     },
     "metadata": {
      "needs_background": "light"
     },
     "output_type": "display_data"
    }
   ],
   "source": [
    "sns.boxplot(data[\"Selisih BI Rate Riil dan FED Rate Riil\"])\n",
    "plt.show()"
   ]
  },
  {
   "cell_type": "code",
   "execution_count": 46,
   "metadata": {},
   "outputs": [
    {
     "data": {
      "text/html": [
       "<div>\n",
       "<style scoped>\n",
       "    .dataframe tbody tr th:only-of-type {\n",
       "        vertical-align: middle;\n",
       "    }\n",
       "\n",
       "    .dataframe tbody tr th {\n",
       "        vertical-align: top;\n",
       "    }\n",
       "\n",
       "    .dataframe thead th {\n",
       "        text-align: right;\n",
       "    }\n",
       "</style>\n",
       "<table border=\"1\" class=\"dataframe\">\n",
       "  <thead>\n",
       "    <tr style=\"text-align: right;\">\n",
       "      <th></th>\n",
       "      <th>Id</th>\n",
       "      <th>Ekspor</th>\n",
       "      <th>Cadangan Devisa</th>\n",
       "      <th>IHSG</th>\n",
       "      <th>Selisih Pinjaman dan Simpanan</th>\n",
       "      <th>Suku Bunga Simpanan Riil</th>\n",
       "      <th>Selisih BI Rate Riil dan FED Rate Riil</th>\n",
       "      <th>Simpanan bank</th>\n",
       "      <th>Nilai Tukar Riil</th>\n",
       "      <th>Nilai Tukar Perdagangan</th>\n",
       "      <th>M1</th>\n",
       "      <th>M2/Cadangan Devisa</th>\n",
       "      <th>M2M</th>\n",
       "      <th>Krisis</th>\n",
       "    </tr>\n",
       "  </thead>\n",
       "  <tbody>\n",
       "    <tr>\n",
       "      <th>70</th>\n",
       "      <td>91</td>\n",
       "      <td>4689.0</td>\n",
       "      <td>21187.0</td>\n",
       "      <td>546.68</td>\n",
       "      <td>1.01</td>\n",
       "      <td>25.13000</td>\n",
       "      <td>15.66</td>\n",
       "      <td>72.183206</td>\n",
       "      <td>997.72</td>\n",
       "      <td>1.0516</td>\n",
       "      <td>20.23</td>\n",
       "      <td>0.0047</td>\n",
       "      <td>8.98</td>\n",
       "      <td>1</td>\n",
       "    </tr>\n",
       "    <tr>\n",
       "      <th>75</th>\n",
       "      <td>97</td>\n",
       "      <td>4908.0</td>\n",
       "      <td>16613.0</td>\n",
       "      <td>541.42</td>\n",
       "      <td>1.02</td>\n",
       "      <td>21.99000</td>\n",
       "      <td>17.17</td>\n",
       "      <td>37.741862</td>\n",
       "      <td>3330.95</td>\n",
       "      <td>1.4945</td>\n",
       "      <td>11.80</td>\n",
       "      <td>0.0033</td>\n",
       "      <td>7.57</td>\n",
       "      <td>1</td>\n",
       "    </tr>\n",
       "    <tr>\n",
       "      <th>76</th>\n",
       "      <td>98</td>\n",
       "      <td>4385.0</td>\n",
       "      <td>17742.0</td>\n",
       "      <td>460.13</td>\n",
       "      <td>1.00</td>\n",
       "      <td>24.70000</td>\n",
       "      <td>36.41</td>\n",
       "      <td>42.973067</td>\n",
       "      <td>3131.46</td>\n",
       "      <td>1.1893</td>\n",
       "      <td>12.72</td>\n",
       "      <td>0.0034</td>\n",
       "      <td>7.43</td>\n",
       "      <td>1</td>\n",
       "    </tr>\n",
       "    <tr>\n",
       "      <th>77</th>\n",
       "      <td>100</td>\n",
       "      <td>4668.0</td>\n",
       "      <td>18769.0</td>\n",
       "      <td>445.92</td>\n",
       "      <td>0.83</td>\n",
       "      <td>28.39125</td>\n",
       "      <td>47.98</td>\n",
       "      <td>23.505570</td>\n",
       "      <td>6838.86</td>\n",
       "      <td>1.6437</td>\n",
       "      <td>7.35</td>\n",
       "      <td>0.0020</td>\n",
       "      <td>8.05</td>\n",
       "      <td>0</td>\n",
       "    </tr>\n",
       "    <tr>\n",
       "      <th>78</th>\n",
       "      <td>102</td>\n",
       "      <td>4252.0</td>\n",
       "      <td>19735.0</td>\n",
       "      <td>342.43</td>\n",
       "      <td>0.79</td>\n",
       "      <td>28.39125</td>\n",
       "      <td>59.05</td>\n",
       "      <td>32.776524</td>\n",
       "      <td>5851.73</td>\n",
       "      <td>1.3886</td>\n",
       "      <td>9.44</td>\n",
       "      <td>0.0025</td>\n",
       "      <td>7.88</td>\n",
       "      <td>0</td>\n",
       "    </tr>\n",
       "    <tr>\n",
       "      <th>79</th>\n",
       "      <td>103</td>\n",
       "      <td>4781.0</td>\n",
       "      <td>20475.0</td>\n",
       "      <td>276.15</td>\n",
       "      <td>0.75</td>\n",
       "      <td>28.39125</td>\n",
       "      <td>59.88</td>\n",
       "      <td>35.314860</td>\n",
       "      <td>5858.66</td>\n",
       "      <td>1.5696</td>\n",
       "      <td>9.59</td>\n",
       "      <td>0.0025</td>\n",
       "      <td>7.83</td>\n",
       "      <td>0</td>\n",
       "    </tr>\n",
       "    <tr>\n",
       "      <th>80</th>\n",
       "      <td>105</td>\n",
       "      <td>3542.0</td>\n",
       "      <td>22623.0</td>\n",
       "      <td>386.27</td>\n",
       "      <td>0.66</td>\n",
       "      <td>28.39125</td>\n",
       "      <td>46.42</td>\n",
       "      <td>57.130959</td>\n",
       "      <td>3979.76</td>\n",
       "      <td>1.4451</td>\n",
       "      <td>13.83</td>\n",
       "      <td>0.0033</td>\n",
       "      <td>7.54</td>\n",
       "      <td>0</td>\n",
       "    </tr>\n",
       "    <tr>\n",
       "      <th>81</th>\n",
       "      <td>106</td>\n",
       "      <td>3557.0</td>\n",
       "      <td>23516.0</td>\n",
       "      <td>398.03</td>\n",
       "      <td>0.71</td>\n",
       "      <td>28.39125</td>\n",
       "      <td>32.21</td>\n",
       "      <td>53.631277</td>\n",
       "      <td>4439.82</td>\n",
       "      <td>1.4430</td>\n",
       "      <td>12.61</td>\n",
       "      <td>0.0031</td>\n",
       "      <td>7.69</td>\n",
       "      <td>0</td>\n",
       "    </tr>\n",
       "    <tr>\n",
       "      <th>82</th>\n",
       "      <td>107</td>\n",
       "      <td>3041.0</td>\n",
       "      <td>24542.0</td>\n",
       "      <td>411.93</td>\n",
       "      <td>0.76</td>\n",
       "      <td>28.39125</td>\n",
       "      <td>28.95</td>\n",
       "      <td>48.650391</td>\n",
       "      <td>5086.23</td>\n",
       "      <td>1.4210</td>\n",
       "      <td>11.39</td>\n",
       "      <td>0.0027</td>\n",
       "      <td>7.97</td>\n",
       "      <td>0</td>\n",
       "    </tr>\n",
       "    <tr>\n",
       "      <th>83</th>\n",
       "      <td>108</td>\n",
       "      <td>3357.0</td>\n",
       "      <td>24392.0</td>\n",
       "      <td>396.00</td>\n",
       "      <td>0.91</td>\n",
       "      <td>28.39125</td>\n",
       "      <td>31.61</td>\n",
       "      <td>50.421077</td>\n",
       "      <td>5017.68</td>\n",
       "      <td>1.3691</td>\n",
       "      <td>11.85</td>\n",
       "      <td>0.0028</td>\n",
       "      <td>7.75</td>\n",
       "      <td>0</td>\n",
       "    </tr>\n",
       "    <tr>\n",
       "      <th>84</th>\n",
       "      <td>110</td>\n",
       "      <td>4127.0</td>\n",
       "      <td>25715.0</td>\n",
       "      <td>495.22</td>\n",
       "      <td>0.93</td>\n",
       "      <td>28.39125</td>\n",
       "      <td>31.85</td>\n",
       "      <td>55.035835</td>\n",
       "      <td>4658.60</td>\n",
       "      <td>1.3625</td>\n",
       "      <td>12.19</td>\n",
       "      <td>0.0029</td>\n",
       "      <td>8.13</td>\n",
       "      <td>0</td>\n",
       "    </tr>\n",
       "    <tr>\n",
       "      <th>85</th>\n",
       "      <td>112</td>\n",
       "      <td>4106.0</td>\n",
       "      <td>27051.0</td>\n",
       "      <td>662.02</td>\n",
       "      <td>1.05</td>\n",
       "      <td>27.73000</td>\n",
       "      <td>17.39</td>\n",
       "      <td>71.051145</td>\n",
       "      <td>3769.97</td>\n",
       "      <td>1.4942</td>\n",
       "      <td>15.75</td>\n",
       "      <td>0.0034</td>\n",
       "      <td>7.96</td>\n",
       "      <td>0</td>\n",
       "    </tr>\n",
       "  </tbody>\n",
       "</table>\n",
       "</div>"
      ],
      "text/plain": [
       "     Id  Ekspor  Cadangan Devisa    IHSG  Selisih Pinjaman dan Simpanan  \\\n",
       "70   91  4689.0          21187.0  546.68                           1.01   \n",
       "75   97  4908.0          16613.0  541.42                           1.02   \n",
       "76   98  4385.0          17742.0  460.13                           1.00   \n",
       "77  100  4668.0          18769.0  445.92                           0.83   \n",
       "78  102  4252.0          19735.0  342.43                           0.79   \n",
       "79  103  4781.0          20475.0  276.15                           0.75   \n",
       "80  105  3542.0          22623.0  386.27                           0.66   \n",
       "81  106  3557.0          23516.0  398.03                           0.71   \n",
       "82  107  3041.0          24542.0  411.93                           0.76   \n",
       "83  108  3357.0          24392.0  396.00                           0.91   \n",
       "84  110  4127.0          25715.0  495.22                           0.93   \n",
       "85  112  4106.0          27051.0  662.02                           1.05   \n",
       "\n",
       "    Suku Bunga Simpanan Riil  Selisih BI Rate Riil dan FED Rate Riil  \\\n",
       "70                  25.13000                                   15.66   \n",
       "75                  21.99000                                   17.17   \n",
       "76                  24.70000                                   36.41   \n",
       "77                  28.39125                                   47.98   \n",
       "78                  28.39125                                   59.05   \n",
       "79                  28.39125                                   59.88   \n",
       "80                  28.39125                                   46.42   \n",
       "81                  28.39125                                   32.21   \n",
       "82                  28.39125                                   28.95   \n",
       "83                  28.39125                                   31.61   \n",
       "84                  28.39125                                   31.85   \n",
       "85                  27.73000                                   17.39   \n",
       "\n",
       "    Simpanan bank   Nilai Tukar Riil  Nilai Tukar Perdagangan     M1  \\\n",
       "70       72.183206            997.72                   1.0516  20.23   \n",
       "75       37.741862           3330.95                   1.4945  11.80   \n",
       "76       42.973067           3131.46                   1.1893  12.72   \n",
       "77       23.505570           6838.86                   1.6437   7.35   \n",
       "78       32.776524           5851.73                   1.3886   9.44   \n",
       "79       35.314860           5858.66                   1.5696   9.59   \n",
       "80       57.130959           3979.76                   1.4451  13.83   \n",
       "81       53.631277           4439.82                   1.4430  12.61   \n",
       "82       48.650391           5086.23                   1.4210  11.39   \n",
       "83       50.421077           5017.68                   1.3691  11.85   \n",
       "84       55.035835           4658.60                   1.3625  12.19   \n",
       "85       71.051145           3769.97                   1.4942  15.75   \n",
       "\n",
       "    M2/Cadangan Devisa   M2M  Krisis  \n",
       "70              0.0047  8.98       1  \n",
       "75              0.0033  7.57       1  \n",
       "76              0.0034  7.43       1  \n",
       "77              0.0020  8.05       0  \n",
       "78              0.0025  7.88       0  \n",
       "79              0.0025  7.83       0  \n",
       "80              0.0033  7.54       0  \n",
       "81              0.0031  7.69       0  \n",
       "82              0.0027  7.97       0  \n",
       "83              0.0028  7.75       0  \n",
       "84              0.0029  8.13       0  \n",
       "85              0.0034  7.96       0  "
      ]
     },
     "execution_count": 46,
     "metadata": {},
     "output_type": "execute_result"
    }
   ],
   "source": [
    "Q1=data[\"Selisih BI Rate Riil dan FED Rate Riil\"].quantile(0.25)\n",
    "Q3=data[\"Selisih BI Rate Riil dan FED Rate Riil\"].quantile(0.75)\n",
    "IQR=Q3-Q1\n",
    "lower_range = Q1 -(1.5 * IQR)\n",
    "upper_range = Q3 +(1.5 * IQR)\n",
    "data.loc[(data[\"Selisih BI Rate Riil dan FED Rate Riil\"]>upper_range),:]"
   ]
  },
  {
   "cell_type": "code",
   "execution_count": 47,
   "metadata": {},
   "outputs": [],
   "source": [
    "data.loc[(data[\"Selisih BI Rate Riil dan FED Rate Riil\"]>upper_range),\"Selisih BI Rate Riil dan FED Rate Riil\"]=upper_range"
   ]
  },
  {
   "cell_type": "code",
   "execution_count": 49,
   "metadata": {},
   "outputs": [
    {
     "name": "stderr",
     "output_type": "stream",
     "text": [
      "C:\\Users\\Bintang\\anaconda3\\lib\\site-packages\\seaborn\\_decorators.py:36: FutureWarning: Pass the following variable as a keyword arg: x. From version 0.12, the only valid positional argument will be `data`, and passing other arguments without an explicit keyword will result in an error or misinterpretation.\n",
      "  warnings.warn(\n"
     ]
    },
    {
     "data": {
      "image/png": "[encoded data removed]",
      "text/plain": [
       "<Figure size 432x288 with 1 Axes>"
      ]
     },
     "metadata": {
      "needs_background": "light"
     },
     "output_type": "display_data"
    }
   ],
   "source": [
    "sns.boxplot(data[\"Selisih BI Rate Riil dan FED Rate Riil\"])\n",
    "plt.show()"
   ]
  },
  {
   "cell_type": "markdown",
   "metadata": {},
   "source": [
    "##### Variabel Simpanan Bank"
   ]
  },
  {
   "cell_type": "code",
   "execution_count": 50,
   "metadata": {},
   "outputs": [
    {
     "name": "stderr",
     "output_type": "stream",
     "text": [
      "C:\\Users\\Bintang\\anaconda3\\lib\\site-packages\\seaborn\\_decorators.py:36: FutureWarning: Pass the following variable as a keyword arg: x. From version 0.12, the only valid positional argument will be `data`, and passing other arguments without an explicit keyword will result in an error or misinterpretation.\n",
      "  warnings.warn(\n"
     ]
    },
    {
     "data": {
      "image/png": "[encoded data removed]",
      "text/plain": [
       "<Figure size 432x288 with 1 Axes>"
      ]
     },
     "metadata": {
      "needs_background": "light"
     },
     "output_type": "display_data"
    }
   ],
   "source": [
    "sns.boxplot(data[\"Simpanan bank \"])\n",
    "plt.show()"
   ]
  },
  {
   "cell_type": "markdown",
   "metadata": {},
   "source": [
    "##### Variabel Nilai Tukar Riil"
   ]
  },
  {
   "cell_type": "code",
   "execution_count": 51,
   "metadata": {},
   "outputs": [
    {
     "name": "stderr",
     "output_type": "stream",
     "text": [
      "C:\\Users\\Bintang\\anaconda3\\lib\\site-packages\\seaborn\\_decorators.py:36: FutureWarning: Pass the following variable as a keyword arg: x. From version 0.12, the only valid positional argument will be `data`, and passing other arguments without an explicit keyword will result in an error or misinterpretation.\n",
      "  warnings.warn(\n"
     ]
    },
    {
     "data": {
      "image/png": "[encoded data removed]",
      "text/plain": [
       "<Figure size 432x288 with 1 Axes>"
      ]
     },
     "metadata": {
      "needs_background": "light"
     },
     "output_type": "display_data"
    }
   ],
   "source": [
    "sns.boxplot(data[\"Nilai Tukar Riil\"])\n",
    "plt.show()"
   ]
  },
  {
   "cell_type": "markdown",
   "metadata": {},
   "source": [
    "##### Variabel Nilai Tukar Perdagangan (Terdapat Outlier)"
   ]
  },
  {
   "cell_type": "code",
   "execution_count": 52,
   "metadata": {},
   "outputs": [
    {
     "name": "stderr",
     "output_type": "stream",
     "text": [
      "C:\\Users\\Bintang\\anaconda3\\lib\\site-packages\\seaborn\\_decorators.py:36: FutureWarning: Pass the following variable as a keyword arg: x. From version 0.12, the only valid positional argument will be `data`, and passing other arguments without an explicit keyword will result in an error or misinterpretation.\n",
      "  warnings.warn(\n"
     ]
    },
    {
     "data": {
      "image/png": "[encoded data removed]",
      "text/plain": [
       "<Figure size 432x288 with 1 Axes>"
      ]
     },
     "metadata": {
      "needs_background": "light"
     },
     "output_type": "display_data"
    }
   ],
   "source": [
    "sns.boxplot(data[\"Nilai Tukar Perdagangan\"])\n",
    "plt.show()"
   ]
  },
  {
   "cell_type": "code",
   "execution_count": 53,
   "metadata": {},
   "outputs": [
    {
     "data": {
      "text/html": [
       "<div>\n",
       "<style scoped>\n",
       "    .dataframe tbody tr th:only-of-type {\n",
       "        vertical-align: middle;\n",
       "    }\n",
       "\n",
       "    .dataframe tbody tr th {\n",
       "        vertical-align: top;\n",
       "    }\n",
       "\n",
       "    .dataframe thead th {\n",
       "        text-align: right;\n",
       "    }\n",
       "</style>\n",
       "<table border=\"1\" class=\"dataframe\">\n",
       "  <thead>\n",
       "    <tr style=\"text-align: right;\">\n",
       "      <th></th>\n",
       "      <th>Id</th>\n",
       "      <th>Ekspor</th>\n",
       "      <th>Cadangan Devisa</th>\n",
       "      <th>IHSG</th>\n",
       "      <th>Selisih Pinjaman dan Simpanan</th>\n",
       "      <th>Suku Bunga Simpanan Riil</th>\n",
       "      <th>Selisih BI Rate Riil dan FED Rate Riil</th>\n",
       "      <th>Simpanan bank</th>\n",
       "      <th>Nilai Tukar Riil</th>\n",
       "      <th>Nilai Tukar Perdagangan</th>\n",
       "      <th>M1</th>\n",
       "      <th>M2/Cadangan Devisa</th>\n",
       "      <th>M2M</th>\n",
       "      <th>Krisis</th>\n",
       "    </tr>\n",
       "  </thead>\n",
       "  <tbody>\n",
       "    <tr>\n",
       "      <th>93</th>\n",
       "      <td>120</td>\n",
       "      <td>5012.49</td>\n",
       "      <td>28401.0</td>\n",
       "      <td>576.54</td>\n",
       "      <td>1.56</td>\n",
       "      <td>12.57</td>\n",
       "      <td>5.9</td>\n",
       "      <td>68.02052</td>\n",
       "      <td>4141.63</td>\n",
       "      <td>1.8577</td>\n",
       "      <td>16.28</td>\n",
       "      <td>0.0031</td>\n",
       "      <td>7.5</td>\n",
       "      <td>0</td>\n",
       "    </tr>\n",
       "  </tbody>\n",
       "</table>\n",
       "</div>"
      ],
      "text/plain": [
       "     Id   Ekspor  Cadangan Devisa    IHSG  Selisih Pinjaman dan Simpanan  \\\n",
       "93  120  5012.49          28401.0  576.54                           1.56   \n",
       "\n",
       "    Suku Bunga Simpanan Riil  Selisih BI Rate Riil dan FED Rate Riil  \\\n",
       "93                     12.57                                     5.9   \n",
       "\n",
       "    Simpanan bank   Nilai Tukar Riil  Nilai Tukar Perdagangan     M1  \\\n",
       "93        68.02052           4141.63                   1.8577  16.28   \n",
       "\n",
       "    M2/Cadangan Devisa  M2M  Krisis  \n",
       "93              0.0031  7.5       0  "
      ]
     },
     "execution_count": 53,
     "metadata": {},
     "output_type": "execute_result"
    }
   ],
   "source": [
    "Q1=data[\"Nilai Tukar Perdagangan\"].quantile(0.25)\n",
    "Q3=data[\"Nilai Tukar Perdagangan\"].quantile(0.75)\n",
    "IQR=Q3-Q1\n",
    "lower_range = Q1 -(1.5 * IQR)\n",
    "upper_range = Q3 +(1.5 * IQR)\n",
    "data.loc[(data[\"Nilai Tukar Perdagangan\"]>upper_range),:]"
   ]
  },
  {
   "cell_type": "code",
   "execution_count": 54,
   "metadata": {},
   "outputs": [],
   "source": [
    "data.loc[(data[\"Nilai Tukar Perdagangan\"]>upper_range),\"Nilai Tukar Perdagangan\"]=upper_range"
   ]
  },
  {
   "cell_type": "code",
   "execution_count": 55,
   "metadata": {},
   "outputs": [
    {
     "name": "stderr",
     "output_type": "stream",
     "text": [
      "C:\\Users\\Bintang\\anaconda3\\lib\\site-packages\\seaborn\\_decorators.py:36: FutureWarning: Pass the following variable as a keyword arg: x. From version 0.12, the only valid positional argument will be `data`, and passing other arguments without an explicit keyword will result in an error or misinterpretation.\n",
      "  warnings.warn(\n"
     ]
    },
    {
     "data": {
      "image/png": "[encoded data removed]",
      "text/plain": [
       "<Figure size 432x288 with 1 Axes>"
      ]
     },
     "metadata": {
      "needs_background": "light"
     },
     "output_type": "display_data"
    }
   ],
   "source": [
    "sns.boxplot(data[\"Nilai Tukar Perdagangan\"])\n",
    "plt.show()"
   ]
  },
  {
   "cell_type": "markdown",
   "metadata": {},
   "source": [
    "##### Variabel M1"
   ]
  },
  {
   "cell_type": "code",
   "execution_count": 56,
   "metadata": {},
   "outputs": [
    {
     "name": "stderr",
     "output_type": "stream",
     "text": [
      "C:\\Users\\Bintang\\anaconda3\\lib\\site-packages\\seaborn\\_decorators.py:36: FutureWarning: Pass the following variable as a keyword arg: x. From version 0.12, the only valid positional argument will be `data`, and passing other arguments without an explicit keyword will result in an error or misinterpretation.\n",
      "  warnings.warn(\n"
     ]
    },
    {
     "data": {
      "image/png": "[encoded data removed]",
      "text/plain": [
       "<Figure size 432x288 with 1 Axes>"
      ]
     },
     "metadata": {
      "needs_background": "light"
     },
     "output_type": "display_data"
    }
   ],
   "source": [
    "sns.boxplot(data[\"M1\"])\n",
    "plt.show()"
   ]
  },
  {
   "cell_type": "markdown",
   "metadata": {},
   "source": [
    "##### Variabel M2/Cadangan Devisa"
   ]
  },
  {
   "cell_type": "code",
   "execution_count": 57,
   "metadata": {},
   "outputs": [
    {
     "name": "stderr",
     "output_type": "stream",
     "text": [
      "C:\\Users\\Bintang\\anaconda3\\lib\\site-packages\\seaborn\\_decorators.py:36: FutureWarning: Pass the following variable as a keyword arg: x. From version 0.12, the only valid positional argument will be `data`, and passing other arguments without an explicit keyword will result in an error or misinterpretation.\n",
      "  warnings.warn(\n"
     ]
    },
    {
     "data": {
      "image/png": "[encoded data removed]",
      "text/plain": [
       "<Figure size 432x288 with 1 Axes>"
      ]
     },
     "metadata": {
      "needs_background": "light"
     },
     "output_type": "display_data"
    }
   ],
   "source": [
    "sns.boxplot(data[\"M2/Cadangan Devisa\"])\n",
    "plt.show()"
   ]
  },
  {
   "cell_type": "markdown",
   "metadata": {},
   "source": [
    "##### Variabel M2M (Terdapat Outlier)"
   ]
  },
  {
   "cell_type": "code",
   "execution_count": 58,
   "metadata": {},
   "outputs": [
    {
     "name": "stderr",
     "output_type": "stream",
     "text": [
      "C:\\Users\\Bintang\\anaconda3\\lib\\site-packages\\seaborn\\_decorators.py:36: FutureWarning: Pass the following variable as a keyword arg: x. From version 0.12, the only valid positional argument will be `data`, and passing other arguments without an explicit keyword will result in an error or misinterpretation.\n",
      "  warnings.warn(\n"
     ]
    },
    {
     "data": {
      "image/png": "[encoded data removed]",
      "text/plain": [
       "<Figure size 432x288 with 1 Axes>"
      ]
     },
     "metadata": {
      "needs_background": "light"
     },
     "output_type": "display_data"
    }
   ],
   "source": [
    "sns.boxplot(data[\"M2M\"])\n",
    "plt.show()"
   ]
  },
  {
   "cell_type": "code",
   "execution_count": 59,
   "metadata": {},
   "outputs": [
    {
     "data": {
      "text/html": [
       "<div>\n",
       "<style scoped>\n",
       "    .dataframe tbody tr th:only-of-type {\n",
       "        vertical-align: middle;\n",
       "    }\n",
       "\n",
       "    .dataframe tbody tr th {\n",
       "        vertical-align: top;\n",
       "    }\n",
       "\n",
       "    .dataframe thead th {\n",
       "        text-align: right;\n",
       "    }\n",
       "</style>\n",
       "<table border=\"1\" class=\"dataframe\">\n",
       "  <thead>\n",
       "    <tr style=\"text-align: right;\">\n",
       "      <th></th>\n",
       "      <th>Id</th>\n",
       "      <th>Ekspor</th>\n",
       "      <th>Cadangan Devisa</th>\n",
       "      <th>IHSG</th>\n",
       "      <th>Selisih Pinjaman dan Simpanan</th>\n",
       "      <th>Suku Bunga Simpanan Riil</th>\n",
       "      <th>Selisih BI Rate Riil dan FED Rate Riil</th>\n",
       "      <th>Simpanan bank</th>\n",
       "      <th>Nilai Tukar Riil</th>\n",
       "      <th>Nilai Tukar Perdagangan</th>\n",
       "      <th>M1</th>\n",
       "      <th>M2/Cadangan Devisa</th>\n",
       "      <th>M2M</th>\n",
       "      <th>Krisis</th>\n",
       "    </tr>\n",
       "  </thead>\n",
       "  <tbody>\n",
       "    <tr>\n",
       "      <th>30</th>\n",
       "      <td>38</td>\n",
       "      <td>2958.0</td>\n",
       "      <td>12204.5</td>\n",
       "      <td>314.1</td>\n",
       "      <td>1.39</td>\n",
       "      <td>15.38</td>\n",
       "      <td>9.64</td>\n",
       "      <td>43.860656</td>\n",
       "      <td>509.62</td>\n",
       "      <td>1.3235</td>\n",
       "      <td>14.32</td>\n",
       "      <td>0.0049</td>\n",
       "      <td>86.97</td>\n",
       "      <td>0</td>\n",
       "    </tr>\n",
       "  </tbody>\n",
       "</table>\n",
       "</div>"
      ],
      "text/plain": [
       "    Id  Ekspor  Cadangan Devisa   IHSG  Selisih Pinjaman dan Simpanan  \\\n",
       "30  38  2958.0          12204.5  314.1                           1.39   \n",
       "\n",
       "    Suku Bunga Simpanan Riil  Selisih BI Rate Riil dan FED Rate Riil  \\\n",
       "30                     15.38                                    9.64   \n",
       "\n",
       "    Simpanan bank   Nilai Tukar Riil  Nilai Tukar Perdagangan     M1  \\\n",
       "30       43.860656            509.62                   1.3235  14.32   \n",
       "\n",
       "    M2/Cadangan Devisa    M2M  Krisis  \n",
       "30              0.0049  86.97       0  "
      ]
     },
     "execution_count": 59,
     "metadata": {},
     "output_type": "execute_result"
    }
   ],
   "source": [
    "Q1=data[\"M2M\"].quantile(0.25)\n",
    "Q3=data[\"M2M\"].quantile(0.75)\n",
    "IQR=Q3-Q1\n",
    "lower_range = Q1 -(1.5 * IQR)\n",
    "upper_range = Q3 +(1.5 * IQR)\n",
    "data.loc[(data[\"M2M\"]>upper_range),:]"
   ]
  },
  {
   "cell_type": "code",
   "execution_count": 60,
   "metadata": {},
   "outputs": [],
   "source": [
    "data.loc[(data[\"M2M\"]>upper_range),\"M2M\"]=upper_range"
   ]
  },
  {
   "cell_type": "code",
   "execution_count": 61,
   "metadata": {},
   "outputs": [
    {
     "name": "stderr",
     "output_type": "stream",
     "text": [
      "C:\\Users\\Bintang\\anaconda3\\lib\\site-packages\\seaborn\\_decorators.py:36: FutureWarning: Pass the following variable as a keyword arg: x. From version 0.12, the only valid positional argument will be `data`, and passing other arguments without an explicit keyword will result in an error or misinterpretation.\n",
      "  warnings.warn(\n"
     ]
    },
    {
     "data": {
      "image/png": "[encoded data removed]",
      "text/plain": [
       "<Figure size 432x288 with 1 Axes>"
      ]
     },
     "metadata": {
      "needs_background": "light"
     },
     "output_type": "display_data"
    }
   ],
   "source": [
    "sns.boxplot(data[\"M2M\"])\n",
    "plt.show()"
   ]
  },
  {
   "cell_type": "markdown",
   "metadata": {},
   "source": [
    "## Data Partition"
   ]
  },
  {
   "cell_type": "code",
   "execution_count": 62,
   "metadata": {},
   "outputs": [],
   "source": [
    "data=data.drop(labels=\"Id\",axis=1)"
   ]
  },
  {
   "cell_type": "code",
   "execution_count": 63,
   "metadata": {},
   "outputs": [],
   "source": [
    "from sklearn.model_selection import train_test_split\n",
    "\n",
    "##partition data into data training and data testing\n",
    "train,test = train_test_split(data,test_size = 0.20 ,random_state = 111)\n",
    "    \n",
    "##seperating dependent and independent variables on training and testing data\n",
    "train_X = train.drop(labels='Krisis',axis=1)\n",
    "train_Y = train['Krisis']\n",
    "test_X  = test.drop(labels='Krisis',axis=1)\n",
    "test_Y  = test['Krisis']"
   ]
  },
  {
   "cell_type": "markdown",
   "metadata": {},
   "source": [
    "## SMOTE (Synthetic Minority Oversampling Technique)"
   ]
  },
  {
   "cell_type": "code",
   "execution_count": 64,
   "metadata": {},
   "outputs": [],
   "source": [
    "from imblearn.over_sampling import SMOTE\n",
    "\n",
    "#handle imbalance class using oversampling minority class with smote method\n",
    "os = SMOTE(sampling_strategy='minority',random_state = 123,k_neighbors=5)\n",
    "train_smote_X,train_smote_Y = os.fit_resample(train_X,train_Y)\n",
    "train_smote_X = pd.DataFrame(data = train_smote_X,columns=train_X.columns)\n",
    "train_smote_Y = pd.DataFrame(data = train_smote_Y)"
   ]
  },
  {
   "cell_type": "code",
   "execution_count": 65,
   "metadata": {},
   "outputs": [
    {
     "data": {
      "text/plain": [
       "0    193\n",
       "1     23\n",
       "Name: Krisis, dtype: int64"
      ]
     },
     "execution_count": 65,
     "metadata": {},
     "output_type": "execute_result"
    }
   ],
   "source": [
    "train_Y.value_counts()"
   ]
  },
  {
   "cell_type": "code",
   "execution_count": 66,
   "metadata": {},
   "outputs": [
    {
     "data": {
      "text/plain": [
       "Krisis\n",
       "1         193\n",
       "0         193\n",
       "dtype: int64"
      ]
     },
     "execution_count": 66,
     "metadata": {},
     "output_type": "execute_result"
    }
   ],
   "source": [
    "train_smote_Y.value_counts()"
   ]
  },
  {
   "cell_type": "markdown",
   "metadata": {},
   "source": [
    "## Random Forest"
   ]
  },
  {
   "cell_type": "code",
   "execution_count": 67,
   "metadata": {},
   "outputs": [],
   "source": [
    "from sklearn.model_selection import GridSearchCV\n",
    "from sklearn.ensemble import RandomForestClassifier\n",
    "from sklearn.metrics import accuracy_score\n",
    "rfc=RandomForestClassifier()\n",
    "param_grid = { \n",
    "    'n_estimators': [200, 500,1000],\n",
    "    'max_features': ['auto','log2'],\n",
    "    'criterion' :['entropy','gini']\n",
    "}"
   ]
  },
  {
   "cell_type": "code",
   "execution_count": 68,
   "metadata": {},
   "outputs": [
    {
     "name": "stderr",
     "output_type": "stream",
     "text": [
      "C:\\Users\\Bintang\\anaconda3\\lib\\site-packages\\sklearn\\model_selection\\_validation.py:593: DataConversionWarning: A column-vector y was passed when a 1d array was expected. Please change the shape of y to (n_samples,), for example using ravel().\n",
      "  estimator.fit(X_train, y_train, **fit_params)\n",
      "C:\\Users\\Bintang\\anaconda3\\lib\\site-packages\\sklearn\\model_selection\\_validation.py:593: DataConversionWarning: A column-vector y was passed when a 1d array was expected. Please change the shape of y to (n_samples,), for example using ravel().\n",
      "  estimator.fit(X_train, y_train, **fit_params)\n",
      "C:\\Users\\Bintang\\anaconda3\\lib\\site-packages\\sklearn\\model_selection\\_validation.py:593: DataConversionWarning: A column-vector y was passed when a 1d array was expected. Please change the shape of y to (n_samples,), for example using ravel().\n",
      "  estimator.fit(X_train, y_train, **fit_params)\n",
      "C:\\Users\\Bintang\\anaconda3\\lib\\site-packages\\sklearn\\model_selection\\_validation.py:593: DataConversionWarning: A column-vector y was passed when a 1d array was expected. Please change the shape of y to (n_samples,), for example using ravel().\n",
      "  estimator.fit(X_train, y_train, **fit_params)\n",
      "C:\\Users\\Bintang\\anaconda3\\lib\\site-packages\\sklearn\\model_selection\\_validation.py:593: DataConversionWarning: A column-vector y was passed when a 1d array was expected. Please change the shape of y to (n_samples,), for example using ravel().\n",
      "  estimator.fit(X_train, y_train, **fit_params)\n",
      "C:\\Users\\Bintang\\anaconda3\\lib\\site-packages\\sklearn\\model_selection\\_validation.py:593: DataConversionWarning: A column-vector y was passed when a 1d array was expected. Please change the shape of y to (n_samples,), for example using ravel().\n",
      "  estimator.fit(X_train, y_train, **fit_params)\n",
      "C:\\Users\\Bintang\\anaconda3\\lib\\site-packages\\sklearn\\model_selection\\_validation.py:593: DataConversionWarning: A column-vector y was passed when a 1d array was expected. Please change the shape of y to (n_samples,), for example using ravel().\n",
      "  estimator.fit(X_train, y_train, **fit_params)\n",
      "C:\\Users\\Bintang\\anaconda3\\lib\\site-packages\\sklearn\\model_selection\\_validation.py:593: DataConversionWarning: A column-vector y was passed when a 1d array was expected. Please change the shape of y to (n_samples,), for example using ravel().\n",
      "  estimator.fit(X_train, y_train, **fit_params)\n",
      "C:\\Users\\Bintang\\anaconda3\\lib\\site-packages\\sklearn\\model_selection\\_validation.py:593: DataConversionWarning: A column-vector y was passed when a 1d array was expected. Please change the shape of y to (n_samples,), for example using ravel().\n",
      "  estimator.fit(X_train, y_train, **fit_params)\n",
      "C:\\Users\\Bintang\\anaconda3\\lib\\site-packages\\sklearn\\model_selection\\_validation.py:593: DataConversionWarning: A column-vector y was passed when a 1d array was expected. Please change the shape of y to (n_samples,), for example using ravel().\n",
      "  estimator.fit(X_train, y_train, **fit_params)\n",
      "C:\\Users\\Bintang\\anaconda3\\lib\\site-packages\\sklearn\\model_selection\\_validation.py:593: DataConversionWarning: A column-vector y was passed when a 1d array was expected. Please change the shape of y to (n_samples,), for example using ravel().\n",
      "  estimator.fit(X_train, y_train, **fit_params)\n",
      "C:\\Users\\Bintang\\anaconda3\\lib\\site-packages\\sklearn\\model_selection\\_validation.py:593: DataConversionWarning: A column-vector y was passed when a 1d array was expected. Please change the shape of y to (n_samples,), for example using ravel().\n",
      "  estimator.fit(X_train, y_train, **fit_params)\n",
      "C:\\Users\\Bintang\\anaconda3\\lib\\site-packages\\sklearn\\model_selection\\_validation.py:593: DataConversionWarning: A column-vector y was passed when a 1d array was expected. Please change the shape of y to (n_samples,), for example using ravel().\n",
      "  estimator.fit(X_train, y_train, **fit_params)\n",
      "C:\\Users\\Bintang\\anaconda3\\lib\\site-packages\\sklearn\\model_selection\\_validation.py:593: DataConversionWarning: A column-vector y was passed when a 1d array was expected. Please change the shape of y to (n_samples,), for example using ravel().\n",
      "  estimator.fit(X_train, y_train, **fit_params)\n",
      "C:\\Users\\Bintang\\anaconda3\\lib\\site-packages\\sklearn\\model_selection\\_validation.py:593: DataConversionWarning: A column-vector y was passed when a 1d array was expected. Please change the shape of y to (n_samples,), for example using ravel().\n",
      "  estimator.fit(X_train, y_train, **fit_params)\n",
      "C:\\Users\\Bintang\\anaconda3\\lib\\site-packages\\sklearn\\model_selection\\_validation.py:593: DataConversionWarning: A column-vector y was passed when a 1d array was expected. Please change the shape of y to (n_samples,), for example using ravel().\n",
      "  estimator.fit(X_train, y_train, **fit_params)\n",
      "C:\\Users\\Bintang\\anaconda3\\lib\\site-packages\\sklearn\\model_selection\\_validation.py:593: DataConversionWarning: A column-vector y was passed when a 1d array was expected. Please change the shape of y to (n_samples,), for example using ravel().\n",
      "  estimator.fit(X_train, y_train, **fit_params)\n",
      "C:\\Users\\Bintang\\anaconda3\\lib\\site-packages\\sklearn\\model_selection\\_validation.py:593: DataConversionWarning: A column-vector y was passed when a 1d array was expected. Please change the shape of y to (n_samples,), for example using ravel().\n",
      "  estimator.fit(X_train, y_train, **fit_params)\n",
      "C:\\Users\\Bintang\\anaconda3\\lib\\site-packages\\sklearn\\model_selection\\_validation.py:593: DataConversionWarning: A column-vector y was passed when a 1d array was expected. Please change the shape of y to (n_samples,), for example using ravel().\n",
      "  estimator.fit(X_train, y_train, **fit_params)\n",
      "C:\\Users\\Bintang\\anaconda3\\lib\\site-packages\\sklearn\\model_selection\\_validation.py:593: DataConversionWarning: A column-vector y was passed when a 1d array was expected. Please change the shape of y to (n_samples,), for example using ravel().\n",
      "  estimator.fit(X_train, y_train, **fit_params)\n",
      "C:\\Users\\Bintang\\anaconda3\\lib\\site-packages\\sklearn\\model_selection\\_validation.py:593: DataConversionWarning: A column-vector y was passed when a 1d array was expected. Please change the shape of y to (n_samples,), for example using ravel().\n",
      "  estimator.fit(X_train, y_train, **fit_params)\n",
      "C:\\Users\\Bintang\\anaconda3\\lib\\site-packages\\sklearn\\model_selection\\_validation.py:593: DataConversionWarning: A column-vector y was passed when a 1d array was expected. Please change the shape of y to (n_samples,), for example using ravel().\n",
      "  estimator.fit(X_train, y_train, **fit_params)\n",
      "C:\\Users\\Bintang\\anaconda3\\lib\\site-packages\\sklearn\\model_selection\\_validation.py:593: DataConversionWarning: A column-vector y was passed when a 1d array was expected. Please change the shape of y to (n_samples,), for example using ravel().\n",
      "  estimator.fit(X_train, y_train, **fit_params)\n",
      "C:\\Users\\Bintang\\anaconda3\\lib\\site-packages\\sklearn\\model_selection\\_validation.py:593: DataConversionWarning: A column-vector y was passed when a 1d array was expected. Please change the shape of y to (n_samples,), for example using ravel().\n",
      "  estimator.fit(X_train, y_train, **fit_params)\n",
      "C:\\Users\\Bintang\\anaconda3\\lib\\site-packages\\sklearn\\model_selection\\_validation.py:593: DataConversionWarning: A column-vector y was passed when a 1d array was expected. Please change the shape of y to (n_samples,), for example using ravel().\n",
      "  estimator.fit(X_train, y_train, **fit_params)\n",
      "C:\\Users\\Bintang\\anaconda3\\lib\\site-packages\\sklearn\\model_selection\\_validation.py:593: DataConversionWarning: A column-vector y was passed when a 1d array was expected. Please change the shape of y to (n_samples,), for example using ravel().\n",
      "  estimator.fit(X_train, y_train, **fit_params)\n",
      "C:\\Users\\Bintang\\anaconda3\\lib\\site-packages\\sklearn\\model_selection\\_validation.py:593: DataConversionWarning: A column-vector y was passed when a 1d array was expected. Please change the shape of y to (n_samples,), for example using ravel().\n",
      "  estimator.fit(X_train, y_train, **fit_params)\n",
      "C:\\Users\\Bintang\\anaconda3\\lib\\site-packages\\sklearn\\model_selection\\_validation.py:593: DataConversionWarning: A column-vector y was passed when a 1d array was expected. Please change the shape of y to (n_samples,), for example using ravel().\n",
      "  estimator.fit(X_train, y_train, **fit_params)\n",
      "C:\\Users\\Bintang\\anaconda3\\lib\\site-packages\\sklearn\\model_selection\\_validation.py:593: DataConversionWarning: A column-vector y was passed when a 1d array was expected. Please change the shape of y to (n_samples,), for example using ravel().\n",
      "  estimator.fit(X_train, y_train, **fit_params)\n"
     ]
    },
    {
     "name": "stderr",
     "output_type": "stream",
     "text": [
      "C:\\Users\\Bintang\\anaconda3\\lib\\site-packages\\sklearn\\model_selection\\_validation.py:593: DataConversionWarning: A column-vector y was passed when a 1d array was expected. Please change the shape of y to (n_samples,), for example using ravel().\n",
      "  estimator.fit(X_train, y_train, **fit_params)\n",
      "C:\\Users\\Bintang\\anaconda3\\lib\\site-packages\\sklearn\\model_selection\\_validation.py:593: DataConversionWarning: A column-vector y was passed when a 1d array was expected. Please change the shape of y to (n_samples,), for example using ravel().\n",
      "  estimator.fit(X_train, y_train, **fit_params)\n",
      "C:\\Users\\Bintang\\anaconda3\\lib\\site-packages\\sklearn\\model_selection\\_validation.py:593: DataConversionWarning: A column-vector y was passed when a 1d array was expected. Please change the shape of y to (n_samples,), for example using ravel().\n",
      "  estimator.fit(X_train, y_train, **fit_params)\n",
      "C:\\Users\\Bintang\\anaconda3\\lib\\site-packages\\sklearn\\model_selection\\_validation.py:593: DataConversionWarning: A column-vector y was passed when a 1d array was expected. Please change the shape of y to (n_samples,), for example using ravel().\n",
      "  estimator.fit(X_train, y_train, **fit_params)\n",
      "C:\\Users\\Bintang\\anaconda3\\lib\\site-packages\\sklearn\\model_selection\\_validation.py:593: DataConversionWarning: A column-vector y was passed when a 1d array was expected. Please change the shape of y to (n_samples,), for example using ravel().\n",
      "  estimator.fit(X_train, y_train, **fit_params)\n",
      "C:\\Users\\Bintang\\anaconda3\\lib\\site-packages\\sklearn\\model_selection\\_validation.py:593: DataConversionWarning: A column-vector y was passed when a 1d array was expected. Please change the shape of y to (n_samples,), for example using ravel().\n",
      "  estimator.fit(X_train, y_train, **fit_params)\n",
      "C:\\Users\\Bintang\\anaconda3\\lib\\site-packages\\sklearn\\model_selection\\_validation.py:593: DataConversionWarning: A column-vector y was passed when a 1d array was expected. Please change the shape of y to (n_samples,), for example using ravel().\n",
      "  estimator.fit(X_train, y_train, **fit_params)\n",
      "C:\\Users\\Bintang\\anaconda3\\lib\\site-packages\\sklearn\\model_selection\\_validation.py:593: DataConversionWarning: A column-vector y was passed when a 1d array was expected. Please change the shape of y to (n_samples,), for example using ravel().\n",
      "  estimator.fit(X_train, y_train, **fit_params)\n",
      "C:\\Users\\Bintang\\anaconda3\\lib\\site-packages\\sklearn\\model_selection\\_validation.py:593: DataConversionWarning: A column-vector y was passed when a 1d array was expected. Please change the shape of y to (n_samples,), for example using ravel().\n",
      "  estimator.fit(X_train, y_train, **fit_params)\n",
      "C:\\Users\\Bintang\\anaconda3\\lib\\site-packages\\sklearn\\model_selection\\_validation.py:593: DataConversionWarning: A column-vector y was passed when a 1d array was expected. Please change the shape of y to (n_samples,), for example using ravel().\n",
      "  estimator.fit(X_train, y_train, **fit_params)\n",
      "C:\\Users\\Bintang\\anaconda3\\lib\\site-packages\\sklearn\\model_selection\\_validation.py:593: DataConversionWarning: A column-vector y was passed when a 1d array was expected. Please change the shape of y to (n_samples,), for example using ravel().\n",
      "  estimator.fit(X_train, y_train, **fit_params)\n",
      "C:\\Users\\Bintang\\anaconda3\\lib\\site-packages\\sklearn\\model_selection\\_validation.py:593: DataConversionWarning: A column-vector y was passed when a 1d array was expected. Please change the shape of y to (n_samples,), for example using ravel().\n",
      "  estimator.fit(X_train, y_train, **fit_params)\n",
      "C:\\Users\\Bintang\\anaconda3\\lib\\site-packages\\sklearn\\model_selection\\_validation.py:593: DataConversionWarning: A column-vector y was passed when a 1d array was expected. Please change the shape of y to (n_samples,), for example using ravel().\n",
      "  estimator.fit(X_train, y_train, **fit_params)\n",
      "C:\\Users\\Bintang\\anaconda3\\lib\\site-packages\\sklearn\\model_selection\\_validation.py:593: DataConversionWarning: A column-vector y was passed when a 1d array was expected. Please change the shape of y to (n_samples,), for example using ravel().\n",
      "  estimator.fit(X_train, y_train, **fit_params)\n",
      "C:\\Users\\Bintang\\anaconda3\\lib\\site-packages\\sklearn\\model_selection\\_validation.py:593: DataConversionWarning: A column-vector y was passed when a 1d array was expected. Please change the shape of y to (n_samples,), for example using ravel().\n",
      "  estimator.fit(X_train, y_train, **fit_params)\n",
      "C:\\Users\\Bintang\\anaconda3\\lib\\site-packages\\sklearn\\model_selection\\_validation.py:593: DataConversionWarning: A column-vector y was passed when a 1d array was expected. Please change the shape of y to (n_samples,), for example using ravel().\n",
      "  estimator.fit(X_train, y_train, **fit_params)\n",
      "C:\\Users\\Bintang\\anaconda3\\lib\\site-packages\\sklearn\\model_selection\\_validation.py:593: DataConversionWarning: A column-vector y was passed when a 1d array was expected. Please change the shape of y to (n_samples,), for example using ravel().\n",
      "  estimator.fit(X_train, y_train, **fit_params)\n",
      "C:\\Users\\Bintang\\anaconda3\\lib\\site-packages\\sklearn\\model_selection\\_validation.py:593: DataConversionWarning: A column-vector y was passed when a 1d array was expected. Please change the shape of y to (n_samples,), for example using ravel().\n",
      "  estimator.fit(X_train, y_train, **fit_params)\n",
      "C:\\Users\\Bintang\\anaconda3\\lib\\site-packages\\sklearn\\model_selection\\_validation.py:593: DataConversionWarning: A column-vector y was passed when a 1d array was expected. Please change the shape of y to (n_samples,), for example using ravel().\n",
      "  estimator.fit(X_train, y_train, **fit_params)\n",
      "C:\\Users\\Bintang\\anaconda3\\lib\\site-packages\\sklearn\\model_selection\\_validation.py:593: DataConversionWarning: A column-vector y was passed when a 1d array was expected. Please change the shape of y to (n_samples,), for example using ravel().\n",
      "  estimator.fit(X_train, y_train, **fit_params)\n",
      "C:\\Users\\Bintang\\anaconda3\\lib\\site-packages\\sklearn\\model_selection\\_validation.py:593: DataConversionWarning: A column-vector y was passed when a 1d array was expected. Please change the shape of y to (n_samples,), for example using ravel().\n",
      "  estimator.fit(X_train, y_train, **fit_params)\n",
      "C:\\Users\\Bintang\\anaconda3\\lib\\site-packages\\sklearn\\model_selection\\_validation.py:593: DataConversionWarning: A column-vector y was passed when a 1d array was expected. Please change the shape of y to (n_samples,), for example using ravel().\n",
      "  estimator.fit(X_train, y_train, **fit_params)\n",
      "C:\\Users\\Bintang\\anaconda3\\lib\\site-packages\\sklearn\\model_selection\\_validation.py:593: DataConversionWarning: A column-vector y was passed when a 1d array was expected. Please change the shape of y to (n_samples,), for example using ravel().\n",
      "  estimator.fit(X_train, y_train, **fit_params)\n",
      "C:\\Users\\Bintang\\anaconda3\\lib\\site-packages\\sklearn\\model_selection\\_validation.py:593: DataConversionWarning: A column-vector y was passed when a 1d array was expected. Please change the shape of y to (n_samples,), for example using ravel().\n",
      "  estimator.fit(X_train, y_train, **fit_params)\n",
      "C:\\Users\\Bintang\\anaconda3\\lib\\site-packages\\sklearn\\model_selection\\_validation.py:593: DataConversionWarning: A column-vector y was passed when a 1d array was expected. Please change the shape of y to (n_samples,), for example using ravel().\n",
      "  estimator.fit(X_train, y_train, **fit_params)\n",
      "C:\\Users\\Bintang\\anaconda3\\lib\\site-packages\\sklearn\\model_selection\\_validation.py:593: DataConversionWarning: A column-vector y was passed when a 1d array was expected. Please change the shape of y to (n_samples,), for example using ravel().\n",
      "  estimator.fit(X_train, y_train, **fit_params)\n",
      "C:\\Users\\Bintang\\anaconda3\\lib\\site-packages\\sklearn\\model_selection\\_validation.py:593: DataConversionWarning: A column-vector y was passed when a 1d array was expected. Please change the shape of y to (n_samples,), for example using ravel().\n",
      "  estimator.fit(X_train, y_train, **fit_params)\n",
      "C:\\Users\\Bintang\\anaconda3\\lib\\site-packages\\sklearn\\model_selection\\_validation.py:593: DataConversionWarning: A column-vector y was passed when a 1d array was expected. Please change the shape of y to (n_samples,), for example using ravel().\n",
      "  estimator.fit(X_train, y_train, **fit_params)\n",
      "C:\\Users\\Bintang\\anaconda3\\lib\\site-packages\\sklearn\\model_selection\\_validation.py:593: DataConversionWarning: A column-vector y was passed when a 1d array was expected. Please change the shape of y to (n_samples,), for example using ravel().\n",
      "  estimator.fit(X_train, y_train, **fit_params)\n"
     ]
    },
    {
     "name": "stderr",
     "output_type": "stream",
     "text": [
      "C:\\Users\\Bintang\\anaconda3\\lib\\site-packages\\sklearn\\model_selection\\_validation.py:593: DataConversionWarning: A column-vector y was passed when a 1d array was expected. Please change the shape of y to (n_samples,), for example using ravel().\n",
      "  estimator.fit(X_train, y_train, **fit_params)\n",
      "C:\\Users\\Bintang\\anaconda3\\lib\\site-packages\\sklearn\\model_selection\\_validation.py:593: DataConversionWarning: A column-vector y was passed when a 1d array was expected. Please change the shape of y to (n_samples,), for example using ravel().\n",
      "  estimator.fit(X_train, y_train, **fit_params)\n",
      "C:\\Users\\Bintang\\anaconda3\\lib\\site-packages\\sklearn\\model_selection\\_search.py:880: DataConversionWarning: A column-vector y was passed when a 1d array was expected. Please change the shape of y to (n_samples,), for example using ravel().\n",
      "  self.best_estimator_.fit(X, y, **fit_params)\n"
     ]
    },
    {
     "data": {
      "text/plain": [
       "GridSearchCV(cv=5, estimator=RandomForestClassifier(),\n",
       "             param_grid={'criterion': ['entropy', 'gini'],\n",
       "                         'max_features': ['auto', 'log2'],\n",
       "                         'n_estimators': [200, 500, 1000]})"
      ]
     },
     "execution_count": 68,
     "metadata": {},
     "output_type": "execute_result"
    }
   ],
   "source": [
    "CV_rfc = GridSearchCV(estimator=rfc, param_grid=param_grid, cv= 5)\n",
    "CV_rfc.fit(train_smote_X, train_smote_Y)"
   ]
  },
  {
   "cell_type": "code",
   "execution_count": 69,
   "metadata": {},
   "outputs": [
    {
     "data": {
      "text/plain": [
       "{'criterion': 'entropy', 'max_features': 'auto', 'n_estimators': 200}"
      ]
     },
     "execution_count": 69,
     "metadata": {},
     "output_type": "execute_result"
    }
   ],
   "source": [
    "CV_rfc.best_params_"
   ]
  },
  {
   "cell_type": "code",
   "execution_count": 70,
   "metadata": {},
   "outputs": [
    {
     "data": {
      "text/plain": [
       "0.9844821844821844"
      ]
     },
     "execution_count": 70,
     "metadata": {},
     "output_type": "execute_result"
    }
   ],
   "source": [
    "CV_rfc.best_score_"
   ]
  },
  {
   "cell_type": "markdown",
   "metadata": {},
   "source": [
    "#### Evaluation"
   ]
  },
  {
   "cell_type": "code",
   "execution_count": 71,
   "metadata": {},
   "outputs": [],
   "source": [
    "pred=CV_rfc.predict(test_X)"
   ]
  },
  {
   "cell_type": "code",
   "execution_count": 72,
   "metadata": {},
   "outputs": [
    {
     "name": "stdout",
     "output_type": "stream",
     "text": [
      "Accuracy for Random Forest on CV data:  0.9444444444444444\n"
     ]
    }
   ],
   "source": [
    "print(\"Accuracy for Random Forest on CV data: \",accuracy_score(test_Y,pred))"
   ]
  },
  {
   "cell_type": "code",
   "execution_count": 73,
   "metadata": {},
   "outputs": [
    {
     "data": {
      "text/plain": [
       "array([[46,  1],\n",
       "       [ 2,  5]], dtype=int64)"
      ]
     },
     "execution_count": 73,
     "metadata": {},
     "output_type": "execute_result"
    }
   ],
   "source": [
    "from sklearn.metrics import confusion_matrix\n",
    "CF=confusion_matrix(test_Y, pred)\n",
    "CF"
   ]
  },
  {
   "cell_type": "code",
   "execution_count": 74,
   "metadata": {},
   "outputs": [
    {
     "name": "stdout",
     "output_type": "stream",
     "text": [
      "              precision    recall  f1-score   support\n",
      "\n",
      "          No       0.96      0.98      0.97        47\n",
      "         Yes       0.83      0.71      0.77         7\n",
      "\n",
      "    accuracy                           0.94        54\n",
      "   macro avg       0.90      0.85      0.87        54\n",
      "weighted avg       0.94      0.94      0.94        54\n",
      "\n"
     ]
    }
   ],
   "source": [
    "from sklearn.metrics import classification_report\n",
    "target_names = ['No','Yes']\n",
    "print(classification_report(test_Y,pred, target_names=target_names))"
   ]
  },
  {
   "cell_type": "code",
   "execution_count": 75,
   "metadata": {},
   "outputs": [
    {
     "data": {
      "image/png": "[encoded data removed]",
      "text/plain": [
       "<Figure size 432x288 with 1 Axes>"
      ]
     },
     "metadata": {
      "needs_background": "light"
     },
     "output_type": "display_data"
    }
   ],
   "source": [
    "from sklearn.metrics import roc_curve\n",
    "# Generate ROC curve values: fpr, tpr, thresholds\n",
    "fpr, tpr, thresholds = roc_curve(test_Y, pred)\n",
    "# Plot ROC curve\n",
    "plt.plot([0, 1], [0, 1], 'k--')\n",
    "plt.plot(fpr, tpr)\n",
    "plt.xlabel('False Positive Rate')\n",
    "plt.ylabel('True Positive Rate')\n",
    "plt.title('ROC Curve')\n",
    "plt.show()"
   ]
  },
  {
   "cell_type": "code",
   "execution_count": 76,
   "metadata": {},
   "outputs": [
    {
     "data": {
      "text/plain": [
       "0.8465045592705167"
      ]
     },
     "execution_count": 76,
     "metadata": {},
     "output_type": "execute_result"
    }
   ],
   "source": [
    "from sklearn.metrics import roc_auc_score\n",
    "roc_auc_score(test_Y,pred)"
   ]
  },
  {
   "cell_type": "markdown",
   "metadata": {},
   "source": [
    "### Predict Model"
   ]
  },
  {
   "cell_type": "code",
   "execution_count": 77,
   "metadata": {},
   "outputs": [],
   "source": [
    "predict = pd.read_csv('krisis_predict.csv', sep = ';')"
   ]
  },
  {
   "cell_type": "code",
   "execution_count": 78,
   "metadata": {},
   "outputs": [],
   "source": [
    "predict = predict.drop(labels=\"Id\",axis=1)"
   ]
  },
  {
   "cell_type": "code",
   "execution_count": 79,
   "metadata": {},
   "outputs": [],
   "source": [
    "Krisis = CV_rfc.predict(predict)"
   ]
  },
  {
   "cell_type": "code",
   "execution_count": 80,
   "metadata": {},
   "outputs": [
    {
     "data": {
      "text/plain": [
       "array([1, 1, 0, 0, 0, 0, 0, 0, 0, 0, 0, 0, 0, 0, 0, 0, 0, 1, 1, 1, 1, 1,\n",
       "       0, 0, 0, 0, 0, 0, 0, 0, 0, 0, 0, 0, 0, 0, 0, 0, 0, 0, 0, 0, 0, 0,\n",
       "       0, 0, 0, 0, 0, 1, 1, 0, 0, 0, 0, 0, 0, 0, 0, 0, 0, 0, 0, 0, 0, 0,\n",
       "       0, 0, 0, 0, 0, 0, 0, 0, 0, 0, 0, 0, 0, 0, 0, 0, 0], dtype=int64)"
      ]
     },
     "execution_count": 80,
     "metadata": {},
     "output_type": "execute_result"
    }
   ],
   "source": [
    "Krisis"
   ]
  },
  {
   "cell_type": "markdown",
   "metadata": {},
   "source": [
    "### Create New Dataset from Prediction"
   ]
  },
  {
   "cell_type": "code",
   "execution_count": 81,
   "metadata": {},
   "outputs": [],
   "source": [
    "predict_fix = pd.read_csv('krisis_predict.csv', sep = ';')"
   ]
  },
  {
   "cell_type": "code",
   "execution_count": 82,
   "metadata": {},
   "outputs": [],
   "source": [
    "predict_fix['Krisis'] = Krisis"
   ]
  },
  {
   "cell_type": "code",
   "execution_count": 83,
   "metadata": {},
   "outputs": [
    {
     "data": {
      "text/html": [
       "<div>\n",
       "<style scoped>\n",
       "    .dataframe tbody tr th:only-of-type {\n",
       "        vertical-align: middle;\n",
       "    }\n",
       "\n",
       "    .dataframe tbody tr th {\n",
       "        vertical-align: top;\n",
       "    }\n",
       "\n",
       "    .dataframe thead th {\n",
       "        text-align: right;\n",
       "    }\n",
       "</style>\n",
       "<table border=\"1\" class=\"dataframe\">\n",
       "  <thead>\n",
       "    <tr style=\"text-align: right;\">\n",
       "      <th></th>\n",
       "      <th>Id</th>\n",
       "      <th>Ekspor</th>\n",
       "      <th>Cadangan Devisa</th>\n",
       "      <th>IHSG</th>\n",
       "      <th>Selisih Pinjaman dan Simpanan</th>\n",
       "      <th>Suku Bunga Simpanan Riil</th>\n",
       "      <th>Selisih BI Rate Riil dan FED Rate Riil</th>\n",
       "      <th>Simpanan bank</th>\n",
       "      <th>Nilai Tukar Riil</th>\n",
       "      <th>Nilai Tukar Perdagangan</th>\n",
       "      <th>M1</th>\n",
       "      <th>M2/Cadangan Devisa</th>\n",
       "      <th>M2M</th>\n",
       "      <th>Krisis</th>\n",
       "    </tr>\n",
       "  </thead>\n",
       "  <tbody>\n",
       "    <tr>\n",
       "      <th>0</th>\n",
       "      <td>2</td>\n",
       "      <td>1803.00</td>\n",
       "      <td>5914.10</td>\n",
       "      <td>638.79</td>\n",
       "      <td>1.26</td>\n",
       "      <td>14.73</td>\n",
       "      <td>3.92</td>\n",
       "      <td>15.655003</td>\n",
       "      <td>380.27</td>\n",
       "      <td>1.6888</td>\n",
       "      <td>12.27</td>\n",
       "      <td>0.0062</td>\n",
       "      <td>5.78</td>\n",
       "      <td>1</td>\n",
       "    </tr>\n",
       "    <tr>\n",
       "      <th>1</th>\n",
       "      <td>3</td>\n",
       "      <td>1802.00</td>\n",
       "      <td>5259.70</td>\n",
       "      <td>636.40</td>\n",
       "      <td>1.23</td>\n",
       "      <td>15.13</td>\n",
       "      <td>4.32</td>\n",
       "      <td>15.321895</td>\n",
       "      <td>384.14</td>\n",
       "      <td>1.0033</td>\n",
       "      <td>11.56</td>\n",
       "      <td>0.0071</td>\n",
       "      <td>6.92</td>\n",
       "      <td>1</td>\n",
       "    </tr>\n",
       "    <tr>\n",
       "      <th>2</th>\n",
       "      <td>7</td>\n",
       "      <td>2603.00</td>\n",
       "      <td>6514.50</td>\n",
       "      <td>468.51</td>\n",
       "      <td>1.15</td>\n",
       "      <td>17.85</td>\n",
       "      <td>9.96</td>\n",
       "      <td>17.309013</td>\n",
       "      <td>397.46</td>\n",
       "      <td>1.1523</td>\n",
       "      <td>12.33</td>\n",
       "      <td>0.0063</td>\n",
       "      <td>7.02</td>\n",
       "      <td>0</td>\n",
       "    </tr>\n",
       "    <tr>\n",
       "      <th>3</th>\n",
       "      <td>8</td>\n",
       "      <td>2639.00</td>\n",
       "      <td>6826.80</td>\n",
       "      <td>416.49</td>\n",
       "      <td>1.12</td>\n",
       "      <td>18.42</td>\n",
       "      <td>10.05</td>\n",
       "      <td>17.449252</td>\n",
       "      <td>400.90</td>\n",
       "      <td>1.4283</td>\n",
       "      <td>12.05</td>\n",
       "      <td>0.0061</td>\n",
       "      <td>7.14</td>\n",
       "      <td>0</td>\n",
       "    </tr>\n",
       "    <tr>\n",
       "      <th>4</th>\n",
       "      <td>11</td>\n",
       "      <td>2554.00</td>\n",
       "      <td>8539.80</td>\n",
       "      <td>383.02</td>\n",
       "      <td>1.17</td>\n",
       "      <td>20.61</td>\n",
       "      <td>12.36</td>\n",
       "      <td>18.391736</td>\n",
       "      <td>410.74</td>\n",
       "      <td>1.3151</td>\n",
       "      <td>12.04</td>\n",
       "      <td>0.0052</td>\n",
       "      <td>7.84</td>\n",
       "      <td>0</td>\n",
       "    </tr>\n",
       "    <tr>\n",
       "      <th>...</th>\n",
       "      <td>...</td>\n",
       "      <td>...</td>\n",
       "      <td>...</td>\n",
       "      <td>...</td>\n",
       "      <td>...</td>\n",
       "      <td>...</td>\n",
       "      <td>...</td>\n",
       "      <td>...</td>\n",
       "      <td>...</td>\n",
       "      <td>...</td>\n",
       "      <td>...</td>\n",
       "      <td>...</td>\n",
       "      <td>...</td>\n",
       "      <td>...</td>\n",
       "    </tr>\n",
       "    <tr>\n",
       "      <th>78</th>\n",
       "      <td>337</td>\n",
       "      <td>15586.87</td>\n",
       "      <td>126003.20</td>\n",
       "      <td>6188.99</td>\n",
       "      <td>1.80</td>\n",
       "      <td>5.68</td>\n",
       "      <td>2.66</td>\n",
       "      <td>322.246484</td>\n",
       "      <td>17507.78</td>\n",
       "      <td>1.0777</td>\n",
       "      <td>98.95</td>\n",
       "      <td>0.0031</td>\n",
       "      <td>5.19</td>\n",
       "      <td>0</td>\n",
       "    </tr>\n",
       "    <tr>\n",
       "      <th>79</th>\n",
       "      <td>342</td>\n",
       "      <td>15865.10</td>\n",
       "      <td>117927.18</td>\n",
       "      <td>6018.46</td>\n",
       "      <td>1.71</td>\n",
       "      <td>6.17</td>\n",
       "      <td>3.74</td>\n",
       "      <td>305.112663</td>\n",
       "      <td>18739.04</td>\n",
       "      <td>0.9433</td>\n",
       "      <td>94.10</td>\n",
       "      <td>0.0032</td>\n",
       "      <td>5.50</td>\n",
       "      <td>0</td>\n",
       "    </tr>\n",
       "    <tr>\n",
       "      <th>80</th>\n",
       "      <td>343</td>\n",
       "      <td>14956.30</td>\n",
       "      <td>114847.52</td>\n",
       "      <td>5976.55</td>\n",
       "      <td>1.69</td>\n",
       "      <td>6.44</td>\n",
       "      <td>3.93</td>\n",
       "      <td>303.529235</td>\n",
       "      <td>18960.65</td>\n",
       "      <td>1.0237</td>\n",
       "      <td>94.56</td>\n",
       "      <td>0.0033</td>\n",
       "      <td>5.63</td>\n",
       "      <td>0</td>\n",
       "    </tr>\n",
       "    <tr>\n",
       "      <th>81</th>\n",
       "      <td>345</td>\n",
       "      <td>14851.70</td>\n",
       "      <td>117211.83</td>\n",
       "      <td>6056.12</td>\n",
       "      <td>1.59</td>\n",
       "      <td>6.32</td>\n",
       "      <td>3.28</td>\n",
       "      <td>319.576407</td>\n",
       "      <td>18339.79</td>\n",
       "      <td>0.8787</td>\n",
       "      <td>98.00</td>\n",
       "      <td>0.0034</td>\n",
       "      <td>5.69</td>\n",
       "      <td>0</td>\n",
       "    </tr>\n",
       "    <tr>\n",
       "      <th>82</th>\n",
       "      <td>352</td>\n",
       "      <td>11779.80</td>\n",
       "      <td>123823.27</td>\n",
       "      <td>6358.63</td>\n",
       "      <td>1.53</td>\n",
       "      <td>6.24</td>\n",
       "      <td>3.10</td>\n",
       "      <td>341.570999</td>\n",
       "      <td>18272.82</td>\n",
       "      <td>1.0169</td>\n",
       "      <td>107.74</td>\n",
       "      <td>0.0034</td>\n",
       "      <td>5.69</td>\n",
       "      <td>0</td>\n",
       "    </tr>\n",
       "  </tbody>\n",
       "</table>\n",
       "<p>83 rows × 14 columns</p>\n",
       "</div>"
      ],
      "text/plain": [
       "     Id    Ekspor  Cadangan Devisa     IHSG  Selisih Pinjaman dan Simpanan  \\\n",
       "0     2   1803.00          5914.10   638.79                           1.26   \n",
       "1     3   1802.00          5259.70   636.40                           1.23   \n",
       "2     7   2603.00          6514.50   468.51                           1.15   \n",
       "3     8   2639.00          6826.80   416.49                           1.12   \n",
       "4    11   2554.00          8539.80   383.02                           1.17   \n",
       "..  ...       ...              ...      ...                            ...   \n",
       "78  337  15586.87        126003.20  6188.99                           1.80   \n",
       "79  342  15865.10        117927.18  6018.46                           1.71   \n",
       "80  343  14956.30        114847.52  5976.55                           1.69   \n",
       "81  345  14851.70        117211.83  6056.12                           1.59   \n",
       "82  352  11779.80        123823.27  6358.63                           1.53   \n",
       "\n",
       "    Suku Bunga Simpanan Riil  Selisih BI Rate Riil dan FED Rate Riil  \\\n",
       "0                      14.73                                    3.92   \n",
       "1                      15.13                                    4.32   \n",
       "2                      17.85                                    9.96   \n",
       "3                      18.42                                   10.05   \n",
       "4                      20.61                                   12.36   \n",
       "..                       ...                                     ...   \n",
       "78                      5.68                                    2.66   \n",
       "79                      6.17                                    3.74   \n",
       "80                      6.44                                    3.93   \n",
       "81                      6.32                                    3.28   \n",
       "82                      6.24                                    3.10   \n",
       "\n",
       "    Simpanan bank   Nilai Tukar Riil  Nilai Tukar Perdagangan      M1  \\\n",
       "0        15.655003            380.27                   1.6888   12.27   \n",
       "1        15.321895            384.14                   1.0033   11.56   \n",
       "2        17.309013            397.46                   1.1523   12.33   \n",
       "3        17.449252            400.90                   1.4283   12.05   \n",
       "4        18.391736            410.74                   1.3151   12.04   \n",
       "..             ...               ...                      ...     ...   \n",
       "78      322.246484          17507.78                   1.0777   98.95   \n",
       "79      305.112663          18739.04                   0.9433   94.10   \n",
       "80      303.529235          18960.65                   1.0237   94.56   \n",
       "81      319.576407          18339.79                   0.8787   98.00   \n",
       "82      341.570999          18272.82                   1.0169  107.74   \n",
       "\n",
       "    M2/Cadangan Devisa   M2M  Krisis  \n",
       "0               0.0062  5.78       1  \n",
       "1               0.0071  6.92       1  \n",
       "2               0.0063  7.02       0  \n",
       "3               0.0061  7.14       0  \n",
       "4               0.0052  7.84       0  \n",
       "..                 ...   ...     ...  \n",
       "78              0.0031  5.19       0  \n",
       "79              0.0032  5.50       0  \n",
       "80              0.0033  5.63       0  \n",
       "81              0.0034  5.69       0  \n",
       "82              0.0034  5.69       0  \n",
       "\n",
       "[83 rows x 14 columns]"
      ]
     },
     "execution_count": 83,
     "metadata": {},
     "output_type": "execute_result"
    }
   ],
   "source": [
    "predict_fix"
   ]
  },
  {
   "cell_type": "code",
   "execution_count": 84,
   "metadata": {},
   "outputs": [],
   "source": [
    "predict_fix = predict_fix.drop(labels=['Ekspor', 'Cadangan Devisa', 'IHSG', \n",
    "                                       'Selisih Pinjaman dan Simpanan', 'Suku Bunga Simpanan Riil',\n",
    "                                       'Selisih BI Rate Riil dan FED Rate Riil', 'Simpanan bank ', 'Nilai Tukar Riil',\n",
    "                                       'Nilai Tukar Perdagangan', 'M1', 'M2/Cadangan Devisa', 'M2M'], axis=1)"
   ]
  },
  {
   "cell_type": "code",
   "execution_count": 85,
   "metadata": {},
   "outputs": [
    {
     "data": {
      "text/html": [
       "<div>\n",
       "<style scoped>\n",
       "    .dataframe tbody tr th:only-of-type {\n",
       "        vertical-align: middle;\n",
       "    }\n",
       "\n",
       "    .dataframe tbody tr th {\n",
       "        vertical-align: top;\n",
       "    }\n",
       "\n",
       "    .dataframe thead th {\n",
       "        text-align: right;\n",
       "    }\n",
       "</style>\n",
       "<table border=\"1\" class=\"dataframe\">\n",
       "  <thead>\n",
       "    <tr style=\"text-align: right;\">\n",
       "      <th></th>\n",
       "      <th>Id</th>\n",
       "      <th>Krisis</th>\n",
       "    </tr>\n",
       "  </thead>\n",
       "  <tbody>\n",
       "    <tr>\n",
       "      <th>0</th>\n",
       "      <td>2</td>\n",
       "      <td>1</td>\n",
       "    </tr>\n",
       "    <tr>\n",
       "      <th>1</th>\n",
       "      <td>3</td>\n",
       "      <td>1</td>\n",
       "    </tr>\n",
       "    <tr>\n",
       "      <th>2</th>\n",
       "      <td>7</td>\n",
       "      <td>0</td>\n",
       "    </tr>\n",
       "    <tr>\n",
       "      <th>3</th>\n",
       "      <td>8</td>\n",
       "      <td>0</td>\n",
       "    </tr>\n",
       "    <tr>\n",
       "      <th>4</th>\n",
       "      <td>11</td>\n",
       "      <td>0</td>\n",
       "    </tr>\n",
       "    <tr>\n",
       "      <th>...</th>\n",
       "      <td>...</td>\n",
       "      <td>...</td>\n",
       "    </tr>\n",
       "    <tr>\n",
       "      <th>78</th>\n",
       "      <td>337</td>\n",
       "      <td>0</td>\n",
       "    </tr>\n",
       "    <tr>\n",
       "      <th>79</th>\n",
       "      <td>342</td>\n",
       "      <td>0</td>\n",
       "    </tr>\n",
       "    <tr>\n",
       "      <th>80</th>\n",
       "      <td>343</td>\n",
       "      <td>0</td>\n",
       "    </tr>\n",
       "    <tr>\n",
       "      <th>81</th>\n",
       "      <td>345</td>\n",
       "      <td>0</td>\n",
       "    </tr>\n",
       "    <tr>\n",
       "      <th>82</th>\n",
       "      <td>352</td>\n",
       "      <td>0</td>\n",
       "    </tr>\n",
       "  </tbody>\n",
       "</table>\n",
       "<p>83 rows × 2 columns</p>\n",
       "</div>"
      ],
      "text/plain": [
       "     Id  Krisis\n",
       "0     2       1\n",
       "1     3       1\n",
       "2     7       0\n",
       "3     8       0\n",
       "4    11       0\n",
       "..  ...     ...\n",
       "78  337       0\n",
       "79  342       0\n",
       "80  343       0\n",
       "81  345       0\n",
       "82  352       0\n",
       "\n",
       "[83 rows x 2 columns]"
      ]
     },
     "execution_count": 85,
     "metadata": {},
     "output_type": "execute_result"
    }
   ],
   "source": [
    "predict_fix"
   ]
  }
 ],
 "metadata": {
  "kernelspec": {
   "display_name": "Python 3",
   "language": "python",
   "name": "python3"
  },
  "language_info": {
   "codemirror_mode": {
    "name": "ipython",
    "version": 3
   },
   "file_extension": ".py",
   "mimetype": "text/x-python",
   "name": "python",
   "nbconvert_exporter": "python",
   "pygments_lexer": "ipython3",
   "version": "3.8.5"
  }
 },
 "nbformat": 4,
 "nbformat_minor": 4
}
